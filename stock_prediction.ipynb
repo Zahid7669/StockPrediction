{
  "nbformat": 4,
  "nbformat_minor": 0,
  "metadata": {
    "colab": {
      "provenance": []
    },
    "kernelspec": {
      "name": "python3",
      "display_name": "Python 3"
    },
    "language_info": {
      "name": "python"
    }
  },
  "cells": [
    {
      "cell_type": "markdown",
      "source": [
        "# **Mini Project 3**\n",
        "# Stock Price Prediction using the Sentiment Analysis of Twitter Data\n",
        "By S M Zahid Hasan"
      ],
      "metadata": {
        "id": "R03J0N5EHgV2"
      }
    },
    {
      "cell_type": "markdown",
      "source": [
        "# Fetching Data from Twitter"
      ],
      "metadata": {
        "id": "iKBrkxPpFJjD"
      }
    },
    {
      "cell_type": "markdown",
      "source": [
        "## Importing Snscrape to fetch twitter data"
      ],
      "metadata": {
        "id": "PzAFb1eEHuP6"
      }
    },
    {
      "cell_type": "code",
      "source": [
        "!pip install snscrape\n",
        "# Run the pip install command below if you don't already have the library\n",
        "!pip install git+https://github.com/JustAnotherArchivist/snscrape.git\n",
        "# Run the below command if you don't already have Pandas\n",
        "!pip install pandas\n",
        "# Imports\n",
        "import snscrape.modules.twitter as sntwitter\n",
        "import pandas as pd\n",
        "import snscrape.modules.twitter as sntwitter"
      ],
      "metadata": {
        "colab": {
          "base_uri": "https://localhost:8080/"
        },
        "id": "MYcN4WDidVdg",
        "outputId": "0c0dd58c-766d-406c-eab8-97160c6f7c58"
      },
      "execution_count": null,
      "outputs": [
        {
          "output_type": "stream",
          "name": "stdout",
          "text": [
            "Looking in indexes: https://pypi.org/simple, https://us-python.pkg.dev/colab-wheels/public/simple/\n",
            "Collecting snscrape\n",
            "  Downloading snscrape-0.3.4-py3-none-any.whl (35 kB)\n",
            "Requirement already satisfied: lxml in /usr/local/lib/python3.7/dist-packages (from snscrape) (4.9.1)\n",
            "Requirement already satisfied: requests[socks] in /usr/local/lib/python3.7/dist-packages (from snscrape) (2.23.0)\n",
            "Requirement already satisfied: beautifulsoup4 in /usr/local/lib/python3.7/dist-packages (from snscrape) (4.6.3)\n",
            "Requirement already satisfied: chardet<4,>=3.0.2 in /usr/local/lib/python3.7/dist-packages (from requests[socks]->snscrape) (3.0.4)\n",
            "Requirement already satisfied: urllib3!=1.25.0,!=1.25.1,<1.26,>=1.21.1 in /usr/local/lib/python3.7/dist-packages (from requests[socks]->snscrape) (1.24.3)\n",
            "Requirement already satisfied: idna<3,>=2.5 in /usr/local/lib/python3.7/dist-packages (from requests[socks]->snscrape) (2.10)\n",
            "Requirement already satisfied: certifi>=2017.4.17 in /usr/local/lib/python3.7/dist-packages (from requests[socks]->snscrape) (2022.9.24)\n",
            "Requirement already satisfied: PySocks!=1.5.7,>=1.5.6 in /usr/local/lib/python3.7/dist-packages (from requests[socks]->snscrape) (1.7.1)\n",
            "Installing collected packages: snscrape\n",
            "Successfully installed snscrape-0.3.4\n",
            "Looking in indexes: https://pypi.org/simple, https://us-python.pkg.dev/colab-wheels/public/simple/\n",
            "Collecting git+https://github.com/JustAnotherArchivist/snscrape.git\n",
            "  Cloning https://github.com/JustAnotherArchivist/snscrape.git to /tmp/pip-req-build-_ltjlze9\n",
            "  Running command git clone -q https://github.com/JustAnotherArchivist/snscrape.git /tmp/pip-req-build-_ltjlze9\n",
            "Requirement already satisfied: requests[socks] in /usr/local/lib/python3.7/dist-packages (from snscrape==0.4.3.20220107.dev65+g46a6030) (2.23.0)\n",
            "Requirement already satisfied: lxml in /usr/local/lib/python3.7/dist-packages (from snscrape==0.4.3.20220107.dev65+g46a6030) (4.9.1)\n",
            "Requirement already satisfied: beautifulsoup4 in /usr/local/lib/python3.7/dist-packages (from snscrape==0.4.3.20220107.dev65+g46a6030) (4.6.3)\n",
            "Requirement already satisfied: filelock in /usr/local/lib/python3.7/dist-packages (from snscrape==0.4.3.20220107.dev65+g46a6030) (3.8.0)\n",
            "Requirement already satisfied: pytz in /usr/local/lib/python3.7/dist-packages (from snscrape==0.4.3.20220107.dev65+g46a6030) (2022.5)\n",
            "\u001b[31mERROR: Package 'snscrape' requires a different Python: 3.7.15 not in '~=3.8'\u001b[0m\n",
            "Looking in indexes: https://pypi.org/simple, https://us-python.pkg.dev/colab-wheels/public/simple/\n",
            "Requirement already satisfied: pandas in /usr/local/lib/python3.7/dist-packages (1.3.5)\n",
            "Requirement already satisfied: pytz>=2017.3 in /usr/local/lib/python3.7/dist-packages (from pandas) (2022.5)\n",
            "Requirement already satisfied: numpy>=1.17.3 in /usr/local/lib/python3.7/dist-packages (from pandas) (1.21.6)\n",
            "Requirement already satisfied: python-dateutil>=2.7.3 in /usr/local/lib/python3.7/dist-packages (from pandas) (2.8.2)\n",
            "Requirement already satisfied: six>=1.5 in /usr/local/lib/python3.7/dist-packages (from python-dateutil>=2.7.3->pandas) (1.15.0)\n"
          ]
        }
      ]
    },
    {
      "cell_type": "markdown",
      "source": [
        "## Fetching the data using snscrape and storing it in csv"
      ],
      "metadata": {
        "id": "ET-ISAEfH3uS"
      }
    },
    {
      "cell_type": "code",
      "source": [
        "# Setting variables to be used below\n",
        "maxTweets = 1000000\n",
        "# Creating list to append tweet data to\n",
        "tweets_list2 = []\n",
        "# Using TwitterSearchScraper to scrape data and append tweets to list\n",
        "for i,tweet in enumerate(sntwitter.TwitterSearchScraper('#AAPL since:2015-01-01 until:2022-11-04').get_items()):\n",
        "  if i>maxTweets:\n",
        "    break\n",
        "  tweets_list2.append([tweet.date, tweet.id, tweet.content, tweet.username])\n",
        "\n",
        "# Creating a dataframe from the tweets list above\n",
        "tweets_df2 = pd.DataFrame(tweets_list2, columns=['Datetime', 'Tweet Id', 'Text', 'Username'])\n",
        "tweets_df2.to_csv(\"tweet.csv\", index = False)"
      ],
      "metadata": {
        "id": "GLeayZfodYLN"
      },
      "execution_count": null,
      "outputs": []
    },
    {
      "cell_type": "markdown",
      "source": [
        "## Showing the last 5 of fetched data "
      ],
      "metadata": {
        "id": "QkzwiNMbIC2B"
      }
    },
    {
      "cell_type": "code",
      "source": [
        "tweets_df2.tail(5)"
      ],
      "metadata": {
        "colab": {
          "base_uri": "https://localhost:8080/",
          "height": 206
        },
        "id": "FBy3aaZSMXwQ",
        "outputId": "dd1da3d8-066e-4bc5-baee-e5076a574159"
      },
      "execution_count": null,
      "outputs": [
        {
          "output_type": "execute_result",
          "data": {
            "text/plain": [
              "                        Datetime            Tweet Id  \\\n",
              "200237 2015-01-01 01:30:03+00:00  550463934520504320   \n",
              "200238 2015-01-01 01:05:47+00:00  550457826662174720   \n",
              "200239 2015-01-01 00:55:47+00:00  550455311275139073   \n",
              "200240 2015-01-01 00:30:04+00:00  550448837026791424   \n",
              "200241 2015-01-01 00:00:06+00:00  550441297652498433   \n",
              "\n",
              "                                                     Text        Username  \n",
              "200237  #AAPL:'Uber�-expensive fares on New Year�s Eve...     NewsMintApp  \n",
              "200238  #9joshi1991 #9lives #A4PChat #aap #AAPL #aas #...  ___Z__Z__z_Z_Z  \n",
              "200239  #9joshi1991 #9lives #A4PChat #aap #AAPL #aas #...  ___Z__Z__z_Z_Z  \n",
              "200240  #AAPL:Apple slapped with class action suit ove...     NewsMintApp  \n",
              "200241  Why is #MSFT is better than #AAPL? #Philanthro...     jeremeevans  "
            ],
            "text/html": [
              "\n",
              "  <div id=\"df-ac8c5098-0b17-4ae2-ade9-4dff70b0d180\">\n",
              "    <div class=\"colab-df-container\">\n",
              "      <div>\n",
              "<style scoped>\n",
              "    .dataframe tbody tr th:only-of-type {\n",
              "        vertical-align: middle;\n",
              "    }\n",
              "\n",
              "    .dataframe tbody tr th {\n",
              "        vertical-align: top;\n",
              "    }\n",
              "\n",
              "    .dataframe thead th {\n",
              "        text-align: right;\n",
              "    }\n",
              "</style>\n",
              "<table border=\"1\" class=\"dataframe\">\n",
              "  <thead>\n",
              "    <tr style=\"text-align: right;\">\n",
              "      <th></th>\n",
              "      <th>Datetime</th>\n",
              "      <th>Tweet Id</th>\n",
              "      <th>Text</th>\n",
              "      <th>Username</th>\n",
              "    </tr>\n",
              "  </thead>\n",
              "  <tbody>\n",
              "    <tr>\n",
              "      <th>200237</th>\n",
              "      <td>2015-01-01 01:30:03+00:00</td>\n",
              "      <td>550463934520504320</td>\n",
              "      <td>#AAPL:'Uber�-expensive fares on New Year�s Eve...</td>\n",
              "      <td>NewsMintApp</td>\n",
              "    </tr>\n",
              "    <tr>\n",
              "      <th>200238</th>\n",
              "      <td>2015-01-01 01:05:47+00:00</td>\n",
              "      <td>550457826662174720</td>\n",
              "      <td>#9joshi1991 #9lives #A4PChat #aap #AAPL #aas #...</td>\n",
              "      <td>___Z__Z__z_Z_Z</td>\n",
              "    </tr>\n",
              "    <tr>\n",
              "      <th>200239</th>\n",
              "      <td>2015-01-01 00:55:47+00:00</td>\n",
              "      <td>550455311275139073</td>\n",
              "      <td>#9joshi1991 #9lives #A4PChat #aap #AAPL #aas #...</td>\n",
              "      <td>___Z__Z__z_Z_Z</td>\n",
              "    </tr>\n",
              "    <tr>\n",
              "      <th>200240</th>\n",
              "      <td>2015-01-01 00:30:04+00:00</td>\n",
              "      <td>550448837026791424</td>\n",
              "      <td>#AAPL:Apple slapped with class action suit ove...</td>\n",
              "      <td>NewsMintApp</td>\n",
              "    </tr>\n",
              "    <tr>\n",
              "      <th>200241</th>\n",
              "      <td>2015-01-01 00:00:06+00:00</td>\n",
              "      <td>550441297652498433</td>\n",
              "      <td>Why is #MSFT is better than #AAPL? #Philanthro...</td>\n",
              "      <td>jeremeevans</td>\n",
              "    </tr>\n",
              "  </tbody>\n",
              "</table>\n",
              "</div>\n",
              "      <button class=\"colab-df-convert\" onclick=\"convertToInteractive('df-ac8c5098-0b17-4ae2-ade9-4dff70b0d180')\"\n",
              "              title=\"Convert this dataframe to an interactive table.\"\n",
              "              style=\"display:none;\">\n",
              "        \n",
              "  <svg xmlns=\"http://www.w3.org/2000/svg\" height=\"24px\"viewBox=\"0 0 24 24\"\n",
              "       width=\"24px\">\n",
              "    <path d=\"M0 0h24v24H0V0z\" fill=\"none\"/>\n",
              "    <path d=\"M18.56 5.44l.94 2.06.94-2.06 2.06-.94-2.06-.94-.94-2.06-.94 2.06-2.06.94zm-11 1L8.5 8.5l.94-2.06 2.06-.94-2.06-.94L8.5 2.5l-.94 2.06-2.06.94zm10 10l.94 2.06.94-2.06 2.06-.94-2.06-.94-.94-2.06-.94 2.06-2.06.94z\"/><path d=\"M17.41 7.96l-1.37-1.37c-.4-.4-.92-.59-1.43-.59-.52 0-1.04.2-1.43.59L10.3 9.45l-7.72 7.72c-.78.78-.78 2.05 0 2.83L4 21.41c.39.39.9.59 1.41.59.51 0 1.02-.2 1.41-.59l7.78-7.78 2.81-2.81c.8-.78.8-2.07 0-2.86zM5.41 20L4 18.59l7.72-7.72 1.47 1.35L5.41 20z\"/>\n",
              "  </svg>\n",
              "      </button>\n",
              "      \n",
              "  <style>\n",
              "    .colab-df-container {\n",
              "      display:flex;\n",
              "      flex-wrap:wrap;\n",
              "      gap: 12px;\n",
              "    }\n",
              "\n",
              "    .colab-df-convert {\n",
              "      background-color: #E8F0FE;\n",
              "      border: none;\n",
              "      border-radius: 50%;\n",
              "      cursor: pointer;\n",
              "      display: none;\n",
              "      fill: #1967D2;\n",
              "      height: 32px;\n",
              "      padding: 0 0 0 0;\n",
              "      width: 32px;\n",
              "    }\n",
              "\n",
              "    .colab-df-convert:hover {\n",
              "      background-color: #E2EBFA;\n",
              "      box-shadow: 0px 1px 2px rgba(60, 64, 67, 0.3), 0px 1px 3px 1px rgba(60, 64, 67, 0.15);\n",
              "      fill: #174EA6;\n",
              "    }\n",
              "\n",
              "    [theme=dark] .colab-df-convert {\n",
              "      background-color: #3B4455;\n",
              "      fill: #D2E3FC;\n",
              "    }\n",
              "\n",
              "    [theme=dark] .colab-df-convert:hover {\n",
              "      background-color: #434B5C;\n",
              "      box-shadow: 0px 1px 3px 1px rgba(0, 0, 0, 0.15);\n",
              "      filter: drop-shadow(0px 1px 2px rgba(0, 0, 0, 0.3));\n",
              "      fill: #FFFFFF;\n",
              "    }\n",
              "  </style>\n",
              "\n",
              "      <script>\n",
              "        const buttonEl =\n",
              "          document.querySelector('#df-ac8c5098-0b17-4ae2-ade9-4dff70b0d180 button.colab-df-convert');\n",
              "        buttonEl.style.display =\n",
              "          google.colab.kernel.accessAllowed ? 'block' : 'none';\n",
              "\n",
              "        async function convertToInteractive(key) {\n",
              "          const element = document.querySelector('#df-ac8c5098-0b17-4ae2-ade9-4dff70b0d180');\n",
              "          const dataTable =\n",
              "            await google.colab.kernel.invokeFunction('convertToInteractive',\n",
              "                                                     [key], {});\n",
              "          if (!dataTable) return;\n",
              "\n",
              "          const docLinkHtml = 'Like what you see? Visit the ' +\n",
              "            '<a target=\"_blank\" href=https://colab.research.google.com/notebooks/data_table.ipynb>data table notebook</a>'\n",
              "            + ' to learn more about interactive tables.';\n",
              "          element.innerHTML = '';\n",
              "          dataTable['output_type'] = 'display_data';\n",
              "          await google.colab.output.renderOutput(dataTable, element);\n",
              "          const docLink = document.createElement('div');\n",
              "          docLink.innerHTML = docLinkHtml;\n",
              "          element.appendChild(docLink);\n",
              "        }\n",
              "      </script>\n",
              "    </div>\n",
              "  </div>\n",
              "  "
            ]
          },
          "metadata": {},
          "execution_count": 8
        }
      ]
    },
    {
      "cell_type": "markdown",
      "source": [
        "# Importing libraries"
      ],
      "metadata": {
        "id": "VKZLpKEXIUaV"
      }
    },
    {
      "cell_type": "code",
      "source": [
        "import tweepy\n",
        "import csv\n",
        "import pandas as pd\n",
        "import random\n",
        "import numpy as np\n",
        "import pandas as pd\n",
        "\n",
        "import numpy as np\n",
        "import pandas as pd\n",
        "from nltk.classify import NaiveBayesClassifier\n",
        "from nltk.corpus import subjectivity\n",
        "from nltk.sentiment import SentimentAnalyzer\n",
        "from nltk.sentiment.util import *\n",
        "import matplotlib.pyplot as mlpt"
      ],
      "metadata": {
        "id": "c82xH5byIXua"
      },
      "execution_count": null,
      "outputs": []
    },
    {
      "cell_type": "markdown",
      "source": [
        "# Importing csv file"
      ],
      "metadata": {
        "id": "RZOsRnSXyh0B"
      }
    },
    {
      "cell_type": "code",
      "source": [
        "tweets_df2 = pd.read_csv('tweet.csv')\n",
        "tweets_df2.head(5)"
      ],
      "metadata": {
        "id": "f4xF9Ls7KOn0"
      },
      "execution_count": null,
      "outputs": []
    },
    {
      "cell_type": "markdown",
      "source": [
        "# Data preprocessing"
      ],
      "metadata": {
        "id": "Sw3C8NxmyoI1"
      }
    },
    {
      "cell_type": "code",
      "source": [
        "tweets_df2 = tweets_df2.loc[(tweets_df2['Datetime'].str.contains(\"20\")) & ~(tweets_df2['Datetime'].str.contains(\"#aapl\"))]\n",
        "tweets_df2.info"
      ],
      "metadata": {
        "id": "ss34NTQ3f724"
      },
      "execution_count": null,
      "outputs": []
    },
    {
      "cell_type": "markdown",
      "source": [
        "Cleaning the tweets and getting only Date from timestamp"
      ],
      "metadata": {
        "id": "OYPgOt39IeUT"
      }
    },
    {
      "cell_type": "code",
      "source": [
        "tweets_df2['Datetime'] = pd.to_datetime(tweets_df2['Datetime'])\n",
        "tweets_df2['Datetime'] = tweets_df2['Datetime'].dt.date\n",
        "#clean the tweets with a function\n",
        "def cleanTweets(text):\n",
        "    text = re.sub('@[A-Za-z0-9_]+', '', text) #removes @mentions\n",
        "    text = re.sub('#','',text) #removes hastag '#' symbol\n",
        "    text = re.sub('RT[\\s]+','',text)\n",
        "    text = re.sub('https?:\\/\\/\\S+', '', text) \n",
        "    text = re.sub('\\n',' ',text)\n",
        "    return text\n",
        "tweets_df2['cleanedTweets'] = tweets_df2['Text'].apply(cleanTweets) #apply cleanTweet function to the tweet\n",
        "tweets_df2.head() #compares original tweets with cleaned Tweets"
      ],
      "metadata": {
        "id": "3kA-q3apIuRE"
      },
      "execution_count": null,
      "outputs": []
    },
    {
      "cell_type": "code",
      "source": [
        "tweets_df2.head()"
      ],
      "metadata": {
        "colab": {
          "base_uri": "https://localhost:8080/",
          "height": 354
        },
        "id": "kaUlg8SQy7CO",
        "outputId": "d8b5fc7e-50ef-415a-c33d-a6f5995b347a"
      },
      "execution_count": null,
      "outputs": [
        {
          "output_type": "execute_result",
          "data": {
            "text/plain": [
              "     Datetime             Tweet Id  \\\n",
              "0  2022-11-03  1588308932191129600   \n",
              "1  2022-11-03  1588304500577947648   \n",
              "2  2022-11-03  1588302628018335745   \n",
              "3  2022-11-03  1588290054413508608   \n",
              "4  2022-11-03  1588290010536894464   \n",
              "\n",
              "                                                Text         Username  \\\n",
              "0  危機感を覚えるとしたらハイテクジャイアント。AAPL、MSFT　GOOGの売られ方が悪すぎる...        0919rento   \n",
              "1           アップルとスターバックス少量買い足ししました #AAPL #SBUX\\n#米国株  m6WSqTzr9eWtvNT   \n",
              "2  #AAPL worth as much as #META #AMZN #GOOG put t...  emilybarkerwork   \n",
              "3  #米国株 #AAPL\\n             companyName：Apple Inc...      finantialit   \n",
              "4  おはようございます。 \\n\\nAppleは-4.24%\\n\\n一枚目：日足　移動平均\\n二枚...     mekatanamaya   \n",
              "\n",
              "                                       cleanedTweets  \n",
              "0  危機感を覚えるとしたらハイテクジャイアント。AAPL、MSFT　GOOGの売られ方が悪すぎる...  \n",
              "1               アップルとスターバックス少量買い足ししました AAPL SBUX 米国株  \n",
              "2  AAPL worth as much as META AMZN GOOG put toget...  \n",
              "3  米国株 AAPL              companyName：Apple Inc.  ...  \n",
              "4  おはようございます。   Appleは-4.24%  一枚目：日足　移動平均 二枚目：日足　...  "
            ],
            "text/html": [
              "\n",
              "  <div id=\"df-eafef967-3395-4939-8413-d3d2a7f2bc66\">\n",
              "    <div class=\"colab-df-container\">\n",
              "      <div>\n",
              "<style scoped>\n",
              "    .dataframe tbody tr th:only-of-type {\n",
              "        vertical-align: middle;\n",
              "    }\n",
              "\n",
              "    .dataframe tbody tr th {\n",
              "        vertical-align: top;\n",
              "    }\n",
              "\n",
              "    .dataframe thead th {\n",
              "        text-align: right;\n",
              "    }\n",
              "</style>\n",
              "<table border=\"1\" class=\"dataframe\">\n",
              "  <thead>\n",
              "    <tr style=\"text-align: right;\">\n",
              "      <th></th>\n",
              "      <th>Datetime</th>\n",
              "      <th>Tweet Id</th>\n",
              "      <th>Text</th>\n",
              "      <th>Username</th>\n",
              "      <th>cleanedTweets</th>\n",
              "    </tr>\n",
              "  </thead>\n",
              "  <tbody>\n",
              "    <tr>\n",
              "      <th>0</th>\n",
              "      <td>2022-11-03</td>\n",
              "      <td>1588308932191129600</td>\n",
              "      <td>危機感を覚えるとしたらハイテクジャイアント。AAPL、MSFT　GOOGの売られ方が悪すぎる...</td>\n",
              "      <td>0919rento</td>\n",
              "      <td>危機感を覚えるとしたらハイテクジャイアント。AAPL、MSFT　GOOGの売られ方が悪すぎる...</td>\n",
              "    </tr>\n",
              "    <tr>\n",
              "      <th>1</th>\n",
              "      <td>2022-11-03</td>\n",
              "      <td>1588304500577947648</td>\n",
              "      <td>アップルとスターバックス少量買い足ししました #AAPL #SBUX\\n#米国株</td>\n",
              "      <td>m6WSqTzr9eWtvNT</td>\n",
              "      <td>アップルとスターバックス少量買い足ししました AAPL SBUX 米国株</td>\n",
              "    </tr>\n",
              "    <tr>\n",
              "      <th>2</th>\n",
              "      <td>2022-11-03</td>\n",
              "      <td>1588302628018335745</td>\n",
              "      <td>#AAPL worth as much as #META #AMZN #GOOG put t...</td>\n",
              "      <td>emilybarkerwork</td>\n",
              "      <td>AAPL worth as much as META AMZN GOOG put toget...</td>\n",
              "    </tr>\n",
              "    <tr>\n",
              "      <th>3</th>\n",
              "      <td>2022-11-03</td>\n",
              "      <td>1588290054413508608</td>\n",
              "      <td>#米国株 #AAPL\\n             companyName：Apple Inc...</td>\n",
              "      <td>finantialit</td>\n",
              "      <td>米国株 AAPL              companyName：Apple Inc.  ...</td>\n",
              "    </tr>\n",
              "    <tr>\n",
              "      <th>4</th>\n",
              "      <td>2022-11-03</td>\n",
              "      <td>1588290010536894464</td>\n",
              "      <td>おはようございます。 \\n\\nAppleは-4.24%\\n\\n一枚目：日足　移動平均\\n二枚...</td>\n",
              "      <td>mekatanamaya</td>\n",
              "      <td>おはようございます。   Appleは-4.24%  一枚目：日足　移動平均 二枚目：日足　...</td>\n",
              "    </tr>\n",
              "  </tbody>\n",
              "</table>\n",
              "</div>\n",
              "      <button class=\"colab-df-convert\" onclick=\"convertToInteractive('df-eafef967-3395-4939-8413-d3d2a7f2bc66')\"\n",
              "              title=\"Convert this dataframe to an interactive table.\"\n",
              "              style=\"display:none;\">\n",
              "        \n",
              "  <svg xmlns=\"http://www.w3.org/2000/svg\" height=\"24px\"viewBox=\"0 0 24 24\"\n",
              "       width=\"24px\">\n",
              "    <path d=\"M0 0h24v24H0V0z\" fill=\"none\"/>\n",
              "    <path d=\"M18.56 5.44l.94 2.06.94-2.06 2.06-.94-2.06-.94-.94-2.06-.94 2.06-2.06.94zm-11 1L8.5 8.5l.94-2.06 2.06-.94-2.06-.94L8.5 2.5l-.94 2.06-2.06.94zm10 10l.94 2.06.94-2.06 2.06-.94-2.06-.94-.94-2.06-.94 2.06-2.06.94z\"/><path d=\"M17.41 7.96l-1.37-1.37c-.4-.4-.92-.59-1.43-.59-.52 0-1.04.2-1.43.59L10.3 9.45l-7.72 7.72c-.78.78-.78 2.05 0 2.83L4 21.41c.39.39.9.59 1.41.59.51 0 1.02-.2 1.41-.59l7.78-7.78 2.81-2.81c.8-.78.8-2.07 0-2.86zM5.41 20L4 18.59l7.72-7.72 1.47 1.35L5.41 20z\"/>\n",
              "  </svg>\n",
              "      </button>\n",
              "      \n",
              "  <style>\n",
              "    .colab-df-container {\n",
              "      display:flex;\n",
              "      flex-wrap:wrap;\n",
              "      gap: 12px;\n",
              "    }\n",
              "\n",
              "    .colab-df-convert {\n",
              "      background-color: #E8F0FE;\n",
              "      border: none;\n",
              "      border-radius: 50%;\n",
              "      cursor: pointer;\n",
              "      display: none;\n",
              "      fill: #1967D2;\n",
              "      height: 32px;\n",
              "      padding: 0 0 0 0;\n",
              "      width: 32px;\n",
              "    }\n",
              "\n",
              "    .colab-df-convert:hover {\n",
              "      background-color: #E2EBFA;\n",
              "      box-shadow: 0px 1px 2px rgba(60, 64, 67, 0.3), 0px 1px 3px 1px rgba(60, 64, 67, 0.15);\n",
              "      fill: #174EA6;\n",
              "    }\n",
              "\n",
              "    [theme=dark] .colab-df-convert {\n",
              "      background-color: #3B4455;\n",
              "      fill: #D2E3FC;\n",
              "    }\n",
              "\n",
              "    [theme=dark] .colab-df-convert:hover {\n",
              "      background-color: #434B5C;\n",
              "      box-shadow: 0px 1px 3px 1px rgba(0, 0, 0, 0.15);\n",
              "      filter: drop-shadow(0px 1px 2px rgba(0, 0, 0, 0.3));\n",
              "      fill: #FFFFFF;\n",
              "    }\n",
              "  </style>\n",
              "\n",
              "      <script>\n",
              "        const buttonEl =\n",
              "          document.querySelector('#df-eafef967-3395-4939-8413-d3d2a7f2bc66 button.colab-df-convert');\n",
              "        buttonEl.style.display =\n",
              "          google.colab.kernel.accessAllowed ? 'block' : 'none';\n",
              "\n",
              "        async function convertToInteractive(key) {\n",
              "          const element = document.querySelector('#df-eafef967-3395-4939-8413-d3d2a7f2bc66');\n",
              "          const dataTable =\n",
              "            await google.colab.kernel.invokeFunction('convertToInteractive',\n",
              "                                                     [key], {});\n",
              "          if (!dataTable) return;\n",
              "\n",
              "          const docLinkHtml = 'Like what you see? Visit the ' +\n",
              "            '<a target=\"_blank\" href=https://colab.research.google.com/notebooks/data_table.ipynb>data table notebook</a>'\n",
              "            + ' to learn more about interactive tables.';\n",
              "          element.innerHTML = '';\n",
              "          dataTable['output_type'] = 'display_data';\n",
              "          await google.colab.output.renderOutput(dataTable, element);\n",
              "          const docLink = document.createElement('div');\n",
              "          docLink.innerHTML = docLinkHtml;\n",
              "          element.appendChild(docLink);\n",
              "        }\n",
              "      </script>\n",
              "    </div>\n",
              "  </div>\n",
              "  "
            ]
          },
          "metadata": {},
          "execution_count": 100
        }
      ]
    },
    {
      "cell_type": "markdown",
      "source": [
        "Creating new DF with essential features and renaming the column name"
      ],
      "metadata": {
        "id": "jgKP5oCg01sc"
      }
    },
    {
      "cell_type": "code",
      "source": [
        "cdata = tweets_df2[['Datetime','cleanedTweets']].copy()\n",
        "cdata.rename(columns = {'Datetime':'Date' , 'cleanedTweets':'Tweets'}, inplace = True)"
      ],
      "metadata": {
        "id": "9P-CAa9SzX8Y"
      },
      "execution_count": null,
      "outputs": []
    },
    {
      "cell_type": "markdown",
      "source": [
        "Creating a dataframe where we will combine the tweets date wise and store into"
      ],
      "metadata": {
        "id": "J43isgaI1AXb"
      }
    },
    {
      "cell_type": "code",
      "source": [
        "ccdata=pd.DataFrame(columns=['Date','Tweets'])"
      ],
      "metadata": {
        "id": "O_MPcPoQztwG"
      },
      "execution_count": null,
      "outputs": []
    },
    {
      "cell_type": "code",
      "source": [
        "indx=0\n",
        "get_tweet=\"\"\n",
        "for i in range(0,len(cdata)-1):\n",
        "    get_date=cdata.Date.iloc[i]\n",
        "    next_date=cdata.Date.iloc[i+1]\n",
        "    if(str(get_date)==str(next_date)):\n",
        "        get_tweet=get_tweet+cdata.Tweets.iloc[i]+\" \"\n",
        "    if(str(get_date)!=str(next_date)):\n",
        "        temp_df = pd.DataFrame([[get_date, \n",
        "                                get_tweet]], columns = ['Date','Tweets'])\n",
        "        ccdata = pd.concat([ccdata, temp_df], axis = 0).reset_index(drop = True)\n",
        "        get_tweet=\" \""
      ],
      "metadata": {
        "id": "gkepEFrdzuiC"
      },
      "execution_count": null,
      "outputs": []
    },
    {
      "cell_type": "code",
      "source": [
        "ccdata.head()"
      ],
      "metadata": {
        "colab": {
          "base_uri": "https://localhost:8080/",
          "height": 206
        },
        "id": "l4tsFSY71OYv",
        "outputId": "090722f6-8c9a-4bf6-ef66-e835eb729f82"
      },
      "execution_count": null,
      "outputs": [
        {
          "output_type": "execute_result",
          "data": {
            "text/plain": [
              "         Date                                             Tweets\n",
              "0  2022-11-03  危機感を覚えるとしたらハイテクジャイアント。AAPL、MSFT　GOOGの売られ方が悪すぎる...\n",
              "1  2022-11-02   Profit Gang     Today's trades 🤑🤑🤑   SPY  AAP...\n",
              "2  2022-11-01   $SPY some bearishness, put divergence over ne...\n",
              "3  2022-10-31   $AAPL one of the most mentioned on 4chan over...\n",
              "4  2022-10-30   AAPL Won't Introduce New M2 Macs Until Next Y..."
            ],
            "text/html": [
              "\n",
              "  <div id=\"df-d82018fd-7e24-4033-8370-21f6c9f242ed\">\n",
              "    <div class=\"colab-df-container\">\n",
              "      <div>\n",
              "<style scoped>\n",
              "    .dataframe tbody tr th:only-of-type {\n",
              "        vertical-align: middle;\n",
              "    }\n",
              "\n",
              "    .dataframe tbody tr th {\n",
              "        vertical-align: top;\n",
              "    }\n",
              "\n",
              "    .dataframe thead th {\n",
              "        text-align: right;\n",
              "    }\n",
              "</style>\n",
              "<table border=\"1\" class=\"dataframe\">\n",
              "  <thead>\n",
              "    <tr style=\"text-align: right;\">\n",
              "      <th></th>\n",
              "      <th>Date</th>\n",
              "      <th>Tweets</th>\n",
              "    </tr>\n",
              "  </thead>\n",
              "  <tbody>\n",
              "    <tr>\n",
              "      <th>0</th>\n",
              "      <td>2022-11-03</td>\n",
              "      <td>危機感を覚えるとしたらハイテクジャイアント。AAPL、MSFT　GOOGの売られ方が悪すぎる...</td>\n",
              "    </tr>\n",
              "    <tr>\n",
              "      <th>1</th>\n",
              "      <td>2022-11-02</td>\n",
              "      <td>Profit Gang     Today's trades 🤑🤑🤑   SPY  AAP...</td>\n",
              "    </tr>\n",
              "    <tr>\n",
              "      <th>2</th>\n",
              "      <td>2022-11-01</td>\n",
              "      <td>$SPY some bearishness, put divergence over ne...</td>\n",
              "    </tr>\n",
              "    <tr>\n",
              "      <th>3</th>\n",
              "      <td>2022-10-31</td>\n",
              "      <td>$AAPL one of the most mentioned on 4chan over...</td>\n",
              "    </tr>\n",
              "    <tr>\n",
              "      <th>4</th>\n",
              "      <td>2022-10-30</td>\n",
              "      <td>AAPL Won't Introduce New M2 Macs Until Next Y...</td>\n",
              "    </tr>\n",
              "  </tbody>\n",
              "</table>\n",
              "</div>\n",
              "      <button class=\"colab-df-convert\" onclick=\"convertToInteractive('df-d82018fd-7e24-4033-8370-21f6c9f242ed')\"\n",
              "              title=\"Convert this dataframe to an interactive table.\"\n",
              "              style=\"display:none;\">\n",
              "        \n",
              "  <svg xmlns=\"http://www.w3.org/2000/svg\" height=\"24px\"viewBox=\"0 0 24 24\"\n",
              "       width=\"24px\">\n",
              "    <path d=\"M0 0h24v24H0V0z\" fill=\"none\"/>\n",
              "    <path d=\"M18.56 5.44l.94 2.06.94-2.06 2.06-.94-2.06-.94-.94-2.06-.94 2.06-2.06.94zm-11 1L8.5 8.5l.94-2.06 2.06-.94-2.06-.94L8.5 2.5l-.94 2.06-2.06.94zm10 10l.94 2.06.94-2.06 2.06-.94-2.06-.94-.94-2.06-.94 2.06-2.06.94z\"/><path d=\"M17.41 7.96l-1.37-1.37c-.4-.4-.92-.59-1.43-.59-.52 0-1.04.2-1.43.59L10.3 9.45l-7.72 7.72c-.78.78-.78 2.05 0 2.83L4 21.41c.39.39.9.59 1.41.59.51 0 1.02-.2 1.41-.59l7.78-7.78 2.81-2.81c.8-.78.8-2.07 0-2.86zM5.41 20L4 18.59l7.72-7.72 1.47 1.35L5.41 20z\"/>\n",
              "  </svg>\n",
              "      </button>\n",
              "      \n",
              "  <style>\n",
              "    .colab-df-container {\n",
              "      display:flex;\n",
              "      flex-wrap:wrap;\n",
              "      gap: 12px;\n",
              "    }\n",
              "\n",
              "    .colab-df-convert {\n",
              "      background-color: #E8F0FE;\n",
              "      border: none;\n",
              "      border-radius: 50%;\n",
              "      cursor: pointer;\n",
              "      display: none;\n",
              "      fill: #1967D2;\n",
              "      height: 32px;\n",
              "      padding: 0 0 0 0;\n",
              "      width: 32px;\n",
              "    }\n",
              "\n",
              "    .colab-df-convert:hover {\n",
              "      background-color: #E2EBFA;\n",
              "      box-shadow: 0px 1px 2px rgba(60, 64, 67, 0.3), 0px 1px 3px 1px rgba(60, 64, 67, 0.15);\n",
              "      fill: #174EA6;\n",
              "    }\n",
              "\n",
              "    [theme=dark] .colab-df-convert {\n",
              "      background-color: #3B4455;\n",
              "      fill: #D2E3FC;\n",
              "    }\n",
              "\n",
              "    [theme=dark] .colab-df-convert:hover {\n",
              "      background-color: #434B5C;\n",
              "      box-shadow: 0px 1px 3px 1px rgba(0, 0, 0, 0.15);\n",
              "      filter: drop-shadow(0px 1px 2px rgba(0, 0, 0, 0.3));\n",
              "      fill: #FFFFFF;\n",
              "    }\n",
              "  </style>\n",
              "\n",
              "      <script>\n",
              "        const buttonEl =\n",
              "          document.querySelector('#df-d82018fd-7e24-4033-8370-21f6c9f242ed button.colab-df-convert');\n",
              "        buttonEl.style.display =\n",
              "          google.colab.kernel.accessAllowed ? 'block' : 'none';\n",
              "\n",
              "        async function convertToInteractive(key) {\n",
              "          const element = document.querySelector('#df-d82018fd-7e24-4033-8370-21f6c9f242ed');\n",
              "          const dataTable =\n",
              "            await google.colab.kernel.invokeFunction('convertToInteractive',\n",
              "                                                     [key], {});\n",
              "          if (!dataTable) return;\n",
              "\n",
              "          const docLinkHtml = 'Like what you see? Visit the ' +\n",
              "            '<a target=\"_blank\" href=https://colab.research.google.com/notebooks/data_table.ipynb>data table notebook</a>'\n",
              "            + ' to learn more about interactive tables.';\n",
              "          element.innerHTML = '';\n",
              "          dataTable['output_type'] = 'display_data';\n",
              "          await google.colab.output.renderOutput(dataTable, element);\n",
              "          const docLink = document.createElement('div');\n",
              "          docLink.innerHTML = docLinkHtml;\n",
              "          element.appendChild(docLink);\n",
              "        }\n",
              "      </script>\n",
              "    </div>\n",
              "  </div>\n",
              "  "
            ]
          },
          "metadata": {},
          "execution_count": 110
        }
      ]
    },
    {
      "cell_type": "markdown",
      "source": [
        "Now to know the \"closing price\" of each day we will import STOCK PRICE DATA for AAPL from \"yahoo.finance\". We will consider \"Close\" price only."
      ],
      "metadata": {
        "id": "x0NKBorQ2LX-"
      }
    },
    {
      "cell_type": "code",
      "source": [
        "read_stock_p=pd.read_csv('AAPL.csv')\n",
        "# DOWNLOAD UPDATED CLOSE PRICE FROM YAHOO FINANCE\n",
        "read_stock_p"
      ],
      "metadata": {
        "colab": {
          "base_uri": "https://localhost:8080/",
          "height": 424
        },
        "id": "4u0pj_Th1XNF",
        "outputId": "87472a1a-d8f0-4ac5-b52d-89092b71a628"
      },
      "execution_count": null,
      "outputs": [
        {
          "output_type": "execute_result",
          "data": {
            "text/plain": [
              "            Date        Open        High         Low       Close   Adj Close  \\\n",
              "0     2015-01-02   27.847500   27.860001   26.837500   27.332500   24.603209   \n",
              "1     2015-01-05   27.072500   27.162500   26.352501   26.562500   23.910091   \n",
              "2     2015-01-06   26.635000   26.857500   26.157499   26.565001   23.912346   \n",
              "3     2015-01-07   26.799999   27.049999   26.674999   26.937500   24.247646   \n",
              "4     2015-01-08   27.307501   28.037500   27.174999   27.972500   25.179298   \n",
              "...          ...         ...         ...         ...         ...         ...   \n",
              "1970  2022-10-28  148.199997  157.500000  147.820007  155.740005  155.482086   \n",
              "1971  2022-10-31  153.160004  154.240005  151.919998  153.339996  153.086044   \n",
              "1972  2022-11-01  155.080002  155.449997  149.130005  150.649994  150.400497   \n",
              "1973  2022-11-02  148.949997  152.169998  145.000000  145.029999  144.789810   \n",
              "1974  2022-11-03  142.059998  142.800003  138.750000  138.880005  138.650009   \n",
              "\n",
              "         Volume  \n",
              "0     212818400  \n",
              "1     257142000  \n",
              "2     263188400  \n",
              "3     160423600  \n",
              "4     237458000  \n",
              "...         ...  \n",
              "1970  164762400  \n",
              "1971   97943200  \n",
              "1972   80379300  \n",
              "1973   93604600  \n",
              "1974   97918500  \n",
              "\n",
              "[1975 rows x 7 columns]"
            ],
            "text/html": [
              "\n",
              "  <div id=\"df-4c6d1056-532e-4412-b1d9-1ad802383409\">\n",
              "    <div class=\"colab-df-container\">\n",
              "      <div>\n",
              "<style scoped>\n",
              "    .dataframe tbody tr th:only-of-type {\n",
              "        vertical-align: middle;\n",
              "    }\n",
              "\n",
              "    .dataframe tbody tr th {\n",
              "        vertical-align: top;\n",
              "    }\n",
              "\n",
              "    .dataframe thead th {\n",
              "        text-align: right;\n",
              "    }\n",
              "</style>\n",
              "<table border=\"1\" class=\"dataframe\">\n",
              "  <thead>\n",
              "    <tr style=\"text-align: right;\">\n",
              "      <th></th>\n",
              "      <th>Date</th>\n",
              "      <th>Open</th>\n",
              "      <th>High</th>\n",
              "      <th>Low</th>\n",
              "      <th>Close</th>\n",
              "      <th>Adj Close</th>\n",
              "      <th>Volume</th>\n",
              "    </tr>\n",
              "  </thead>\n",
              "  <tbody>\n",
              "    <tr>\n",
              "      <th>0</th>\n",
              "      <td>2015-01-02</td>\n",
              "      <td>27.847500</td>\n",
              "      <td>27.860001</td>\n",
              "      <td>26.837500</td>\n",
              "      <td>27.332500</td>\n",
              "      <td>24.603209</td>\n",
              "      <td>212818400</td>\n",
              "    </tr>\n",
              "    <tr>\n",
              "      <th>1</th>\n",
              "      <td>2015-01-05</td>\n",
              "      <td>27.072500</td>\n",
              "      <td>27.162500</td>\n",
              "      <td>26.352501</td>\n",
              "      <td>26.562500</td>\n",
              "      <td>23.910091</td>\n",
              "      <td>257142000</td>\n",
              "    </tr>\n",
              "    <tr>\n",
              "      <th>2</th>\n",
              "      <td>2015-01-06</td>\n",
              "      <td>26.635000</td>\n",
              "      <td>26.857500</td>\n",
              "      <td>26.157499</td>\n",
              "      <td>26.565001</td>\n",
              "      <td>23.912346</td>\n",
              "      <td>263188400</td>\n",
              "    </tr>\n",
              "    <tr>\n",
              "      <th>3</th>\n",
              "      <td>2015-01-07</td>\n",
              "      <td>26.799999</td>\n",
              "      <td>27.049999</td>\n",
              "      <td>26.674999</td>\n",
              "      <td>26.937500</td>\n",
              "      <td>24.247646</td>\n",
              "      <td>160423600</td>\n",
              "    </tr>\n",
              "    <tr>\n",
              "      <th>4</th>\n",
              "      <td>2015-01-08</td>\n",
              "      <td>27.307501</td>\n",
              "      <td>28.037500</td>\n",
              "      <td>27.174999</td>\n",
              "      <td>27.972500</td>\n",
              "      <td>25.179298</td>\n",
              "      <td>237458000</td>\n",
              "    </tr>\n",
              "    <tr>\n",
              "      <th>...</th>\n",
              "      <td>...</td>\n",
              "      <td>...</td>\n",
              "      <td>...</td>\n",
              "      <td>...</td>\n",
              "      <td>...</td>\n",
              "      <td>...</td>\n",
              "      <td>...</td>\n",
              "    </tr>\n",
              "    <tr>\n",
              "      <th>1970</th>\n",
              "      <td>2022-10-28</td>\n",
              "      <td>148.199997</td>\n",
              "      <td>157.500000</td>\n",
              "      <td>147.820007</td>\n",
              "      <td>155.740005</td>\n",
              "      <td>155.482086</td>\n",
              "      <td>164762400</td>\n",
              "    </tr>\n",
              "    <tr>\n",
              "      <th>1971</th>\n",
              "      <td>2022-10-31</td>\n",
              "      <td>153.160004</td>\n",
              "      <td>154.240005</td>\n",
              "      <td>151.919998</td>\n",
              "      <td>153.339996</td>\n",
              "      <td>153.086044</td>\n",
              "      <td>97943200</td>\n",
              "    </tr>\n",
              "    <tr>\n",
              "      <th>1972</th>\n",
              "      <td>2022-11-01</td>\n",
              "      <td>155.080002</td>\n",
              "      <td>155.449997</td>\n",
              "      <td>149.130005</td>\n",
              "      <td>150.649994</td>\n",
              "      <td>150.400497</td>\n",
              "      <td>80379300</td>\n",
              "    </tr>\n",
              "    <tr>\n",
              "      <th>1973</th>\n",
              "      <td>2022-11-02</td>\n",
              "      <td>148.949997</td>\n",
              "      <td>152.169998</td>\n",
              "      <td>145.000000</td>\n",
              "      <td>145.029999</td>\n",
              "      <td>144.789810</td>\n",
              "      <td>93604600</td>\n",
              "    </tr>\n",
              "    <tr>\n",
              "      <th>1974</th>\n",
              "      <td>2022-11-03</td>\n",
              "      <td>142.059998</td>\n",
              "      <td>142.800003</td>\n",
              "      <td>138.750000</td>\n",
              "      <td>138.880005</td>\n",
              "      <td>138.650009</td>\n",
              "      <td>97918500</td>\n",
              "    </tr>\n",
              "  </tbody>\n",
              "</table>\n",
              "<p>1975 rows × 7 columns</p>\n",
              "</div>\n",
              "      <button class=\"colab-df-convert\" onclick=\"convertToInteractive('df-4c6d1056-532e-4412-b1d9-1ad802383409')\"\n",
              "              title=\"Convert this dataframe to an interactive table.\"\n",
              "              style=\"display:none;\">\n",
              "        \n",
              "  <svg xmlns=\"http://www.w3.org/2000/svg\" height=\"24px\"viewBox=\"0 0 24 24\"\n",
              "       width=\"24px\">\n",
              "    <path d=\"M0 0h24v24H0V0z\" fill=\"none\"/>\n",
              "    <path d=\"M18.56 5.44l.94 2.06.94-2.06 2.06-.94-2.06-.94-.94-2.06-.94 2.06-2.06.94zm-11 1L8.5 8.5l.94-2.06 2.06-.94-2.06-.94L8.5 2.5l-.94 2.06-2.06.94zm10 10l.94 2.06.94-2.06 2.06-.94-2.06-.94-.94-2.06-.94 2.06-2.06.94z\"/><path d=\"M17.41 7.96l-1.37-1.37c-.4-.4-.92-.59-1.43-.59-.52 0-1.04.2-1.43.59L10.3 9.45l-7.72 7.72c-.78.78-.78 2.05 0 2.83L4 21.41c.39.39.9.59 1.41.59.51 0 1.02-.2 1.41-.59l7.78-7.78 2.81-2.81c.8-.78.8-2.07 0-2.86zM5.41 20L4 18.59l7.72-7.72 1.47 1.35L5.41 20z\"/>\n",
              "  </svg>\n",
              "      </button>\n",
              "      \n",
              "  <style>\n",
              "    .colab-df-container {\n",
              "      display:flex;\n",
              "      flex-wrap:wrap;\n",
              "      gap: 12px;\n",
              "    }\n",
              "\n",
              "    .colab-df-convert {\n",
              "      background-color: #E8F0FE;\n",
              "      border: none;\n",
              "      border-radius: 50%;\n",
              "      cursor: pointer;\n",
              "      display: none;\n",
              "      fill: #1967D2;\n",
              "      height: 32px;\n",
              "      padding: 0 0 0 0;\n",
              "      width: 32px;\n",
              "    }\n",
              "\n",
              "    .colab-df-convert:hover {\n",
              "      background-color: #E2EBFA;\n",
              "      box-shadow: 0px 1px 2px rgba(60, 64, 67, 0.3), 0px 1px 3px 1px rgba(60, 64, 67, 0.15);\n",
              "      fill: #174EA6;\n",
              "    }\n",
              "\n",
              "    [theme=dark] .colab-df-convert {\n",
              "      background-color: #3B4455;\n",
              "      fill: #D2E3FC;\n",
              "    }\n",
              "\n",
              "    [theme=dark] .colab-df-convert:hover {\n",
              "      background-color: #434B5C;\n",
              "      box-shadow: 0px 1px 3px 1px rgba(0, 0, 0, 0.15);\n",
              "      filter: drop-shadow(0px 1px 2px rgba(0, 0, 0, 0.3));\n",
              "      fill: #FFFFFF;\n",
              "    }\n",
              "  </style>\n",
              "\n",
              "      <script>\n",
              "        const buttonEl =\n",
              "          document.querySelector('#df-4c6d1056-532e-4412-b1d9-1ad802383409 button.colab-df-convert');\n",
              "        buttonEl.style.display =\n",
              "          google.colab.kernel.accessAllowed ? 'block' : 'none';\n",
              "\n",
              "        async function convertToInteractive(key) {\n",
              "          const element = document.querySelector('#df-4c6d1056-532e-4412-b1d9-1ad802383409');\n",
              "          const dataTable =\n",
              "            await google.colab.kernel.invokeFunction('convertToInteractive',\n",
              "                                                     [key], {});\n",
              "          if (!dataTable) return;\n",
              "\n",
              "          const docLinkHtml = 'Like what you see? Visit the ' +\n",
              "            '<a target=\"_blank\" href=https://colab.research.google.com/notebooks/data_table.ipynb>data table notebook</a>'\n",
              "            + ' to learn more about interactive tables.';\n",
              "          element.innerHTML = '';\n",
              "          dataTable['output_type'] = 'display_data';\n",
              "          await google.colab.output.renderOutput(dataTable, element);\n",
              "          const docLink = document.createElement('div');\n",
              "          docLink.innerHTML = docLinkHtml;\n",
              "          element.appendChild(docLink);\n",
              "        }\n",
              "      </script>\n",
              "    </div>\n",
              "  </div>\n",
              "  "
            ]
          },
          "metadata": {},
          "execution_count": 111
        }
      ]
    },
    {
      "cell_type": "markdown",
      "source": [
        "Adding a \"Price\" column in our dataframe and fetching the stock price as per the date in our dataframe."
      ],
      "metadata": {
        "id": "wWRuGzEC2pSM"
      }
    },
    {
      "cell_type": "code",
      "source": [
        "ccdata['Prices']=\"\""
      ],
      "metadata": {
        "id": "IoNexRWY2qhI"
      },
      "execution_count": null,
      "outputs": []
    },
    {
      "cell_type": "code",
      "source": [
        "indx=0\n",
        "for i in range (0,len(ccdata)):\n",
        "    for j in range (0,len(read_stock_p)):\n",
        "        get_tweet_date=ccdata.Date.iloc[i]\n",
        "        get_stock_date=read_stock_p.Date.iloc[j]\n",
        "        if(str(get_stock_date)==str(get_tweet_date)):\n",
        "            ccdata['Prices'].iloc[i] = int(read_stock_p.Close[j])"
      ],
      "metadata": {
        "id": "63hvEwM12s4E"
      },
      "execution_count": null,
      "outputs": []
    },
    {
      "cell_type": "markdown",
      "source": [
        "Prices are fetched but some entires are blank as close price might not be available for that day due to some reason (like holiday, etc.)"
      ],
      "metadata": {
        "id": "89AaSaf43DeK"
      }
    },
    {
      "cell_type": "code",
      "source": [
        "ccdata"
      ],
      "metadata": {
        "colab": {
          "base_uri": "https://localhost:8080/",
          "height": 424
        },
        "id": "jg0LSa1s3Ebz",
        "outputId": "d9beb9c8-94dd-4be4-ab75-f0572c8ec443"
      },
      "execution_count": null,
      "outputs": [
        {
          "output_type": "execute_result",
          "data": {
            "text/plain": [
              "            Date                                             Tweets Prices\n",
              "0     2022-11-03  危機感を覚えるとしたらハイテクジャイアント。AAPL、MSFT　GOOGの売られ方が悪すぎる...    138\n",
              "1     2022-11-02   Profit Gang     Today's trades 🤑🤑🤑   SPY  AAP...    145\n",
              "2     2022-11-01   $SPY some bearishness, put divergence over ne...    150\n",
              "3     2022-10-31   $AAPL one of the most mentioned on 4chan over...    153\n",
              "4     2022-10-30   AAPL Won't Introduce New M2 Macs Until Next Y...       \n",
              "...          ...                                                ...    ...\n",
              "2858  2015-01-06   9joshi1991 9lives A4PChat aap AAPL aas AASCDB...     26\n",
              "2859  2015-01-05   9joshi1991 9lives A4PChat aap AAPL aas AASCDB...     26\n",
              "2860  2015-01-04   AAPL /  : “That’s what the link-baiting press...       \n",
              "2861  2015-01-03   Vamos pata abajo Y aapl parece liderar \": $AA...       \n",
              "2862  2015-01-02   AAPL:Apple Falls on Watch Outlook, Big Blue L...     27\n",
              "\n",
              "[2863 rows x 3 columns]"
            ],
            "text/html": [
              "\n",
              "  <div id=\"df-a5d11615-3ee2-4ea1-9863-2492d5d392ef\">\n",
              "    <div class=\"colab-df-container\">\n",
              "      <div>\n",
              "<style scoped>\n",
              "    .dataframe tbody tr th:only-of-type {\n",
              "        vertical-align: middle;\n",
              "    }\n",
              "\n",
              "    .dataframe tbody tr th {\n",
              "        vertical-align: top;\n",
              "    }\n",
              "\n",
              "    .dataframe thead th {\n",
              "        text-align: right;\n",
              "    }\n",
              "</style>\n",
              "<table border=\"1\" class=\"dataframe\">\n",
              "  <thead>\n",
              "    <tr style=\"text-align: right;\">\n",
              "      <th></th>\n",
              "      <th>Date</th>\n",
              "      <th>Tweets</th>\n",
              "      <th>Prices</th>\n",
              "    </tr>\n",
              "  </thead>\n",
              "  <tbody>\n",
              "    <tr>\n",
              "      <th>0</th>\n",
              "      <td>2022-11-03</td>\n",
              "      <td>危機感を覚えるとしたらハイテクジャイアント。AAPL、MSFT　GOOGの売られ方が悪すぎる...</td>\n",
              "      <td>138</td>\n",
              "    </tr>\n",
              "    <tr>\n",
              "      <th>1</th>\n",
              "      <td>2022-11-02</td>\n",
              "      <td>Profit Gang     Today's trades 🤑🤑🤑   SPY  AAP...</td>\n",
              "      <td>145</td>\n",
              "    </tr>\n",
              "    <tr>\n",
              "      <th>2</th>\n",
              "      <td>2022-11-01</td>\n",
              "      <td>$SPY some bearishness, put divergence over ne...</td>\n",
              "      <td>150</td>\n",
              "    </tr>\n",
              "    <tr>\n",
              "      <th>3</th>\n",
              "      <td>2022-10-31</td>\n",
              "      <td>$AAPL one of the most mentioned on 4chan over...</td>\n",
              "      <td>153</td>\n",
              "    </tr>\n",
              "    <tr>\n",
              "      <th>4</th>\n",
              "      <td>2022-10-30</td>\n",
              "      <td>AAPL Won't Introduce New M2 Macs Until Next Y...</td>\n",
              "      <td></td>\n",
              "    </tr>\n",
              "    <tr>\n",
              "      <th>...</th>\n",
              "      <td>...</td>\n",
              "      <td>...</td>\n",
              "      <td>...</td>\n",
              "    </tr>\n",
              "    <tr>\n",
              "      <th>2858</th>\n",
              "      <td>2015-01-06</td>\n",
              "      <td>9joshi1991 9lives A4PChat aap AAPL aas AASCDB...</td>\n",
              "      <td>26</td>\n",
              "    </tr>\n",
              "    <tr>\n",
              "      <th>2859</th>\n",
              "      <td>2015-01-05</td>\n",
              "      <td>9joshi1991 9lives A4PChat aap AAPL aas AASCDB...</td>\n",
              "      <td>26</td>\n",
              "    </tr>\n",
              "    <tr>\n",
              "      <th>2860</th>\n",
              "      <td>2015-01-04</td>\n",
              "      <td>AAPL /  : “That’s what the link-baiting press...</td>\n",
              "      <td></td>\n",
              "    </tr>\n",
              "    <tr>\n",
              "      <th>2861</th>\n",
              "      <td>2015-01-03</td>\n",
              "      <td>Vamos pata abajo Y aapl parece liderar \": $AA...</td>\n",
              "      <td></td>\n",
              "    </tr>\n",
              "    <tr>\n",
              "      <th>2862</th>\n",
              "      <td>2015-01-02</td>\n",
              "      <td>AAPL:Apple Falls on Watch Outlook, Big Blue L...</td>\n",
              "      <td>27</td>\n",
              "    </tr>\n",
              "  </tbody>\n",
              "</table>\n",
              "<p>2863 rows × 3 columns</p>\n",
              "</div>\n",
              "      <button class=\"colab-df-convert\" onclick=\"convertToInteractive('df-a5d11615-3ee2-4ea1-9863-2492d5d392ef')\"\n",
              "              title=\"Convert this dataframe to an interactive table.\"\n",
              "              style=\"display:none;\">\n",
              "        \n",
              "  <svg xmlns=\"http://www.w3.org/2000/svg\" height=\"24px\"viewBox=\"0 0 24 24\"\n",
              "       width=\"24px\">\n",
              "    <path d=\"M0 0h24v24H0V0z\" fill=\"none\"/>\n",
              "    <path d=\"M18.56 5.44l.94 2.06.94-2.06 2.06-.94-2.06-.94-.94-2.06-.94 2.06-2.06.94zm-11 1L8.5 8.5l.94-2.06 2.06-.94-2.06-.94L8.5 2.5l-.94 2.06-2.06.94zm10 10l.94 2.06.94-2.06 2.06-.94-2.06-.94-.94-2.06-.94 2.06-2.06.94z\"/><path d=\"M17.41 7.96l-1.37-1.37c-.4-.4-.92-.59-1.43-.59-.52 0-1.04.2-1.43.59L10.3 9.45l-7.72 7.72c-.78.78-.78 2.05 0 2.83L4 21.41c.39.39.9.59 1.41.59.51 0 1.02-.2 1.41-.59l7.78-7.78 2.81-2.81c.8-.78.8-2.07 0-2.86zM5.41 20L4 18.59l7.72-7.72 1.47 1.35L5.41 20z\"/>\n",
              "  </svg>\n",
              "      </button>\n",
              "      \n",
              "  <style>\n",
              "    .colab-df-container {\n",
              "      display:flex;\n",
              "      flex-wrap:wrap;\n",
              "      gap: 12px;\n",
              "    }\n",
              "\n",
              "    .colab-df-convert {\n",
              "      background-color: #E8F0FE;\n",
              "      border: none;\n",
              "      border-radius: 50%;\n",
              "      cursor: pointer;\n",
              "      display: none;\n",
              "      fill: #1967D2;\n",
              "      height: 32px;\n",
              "      padding: 0 0 0 0;\n",
              "      width: 32px;\n",
              "    }\n",
              "\n",
              "    .colab-df-convert:hover {\n",
              "      background-color: #E2EBFA;\n",
              "      box-shadow: 0px 1px 2px rgba(60, 64, 67, 0.3), 0px 1px 3px 1px rgba(60, 64, 67, 0.15);\n",
              "      fill: #174EA6;\n",
              "    }\n",
              "\n",
              "    [theme=dark] .colab-df-convert {\n",
              "      background-color: #3B4455;\n",
              "      fill: #D2E3FC;\n",
              "    }\n",
              "\n",
              "    [theme=dark] .colab-df-convert:hover {\n",
              "      background-color: #434B5C;\n",
              "      box-shadow: 0px 1px 3px 1px rgba(0, 0, 0, 0.15);\n",
              "      filter: drop-shadow(0px 1px 2px rgba(0, 0, 0, 0.3));\n",
              "      fill: #FFFFFF;\n",
              "    }\n",
              "  </style>\n",
              "\n",
              "      <script>\n",
              "        const buttonEl =\n",
              "          document.querySelector('#df-a5d11615-3ee2-4ea1-9863-2492d5d392ef button.colab-df-convert');\n",
              "        buttonEl.style.display =\n",
              "          google.colab.kernel.accessAllowed ? 'block' : 'none';\n",
              "\n",
              "        async function convertToInteractive(key) {\n",
              "          const element = document.querySelector('#df-a5d11615-3ee2-4ea1-9863-2492d5d392ef');\n",
              "          const dataTable =\n",
              "            await google.colab.kernel.invokeFunction('convertToInteractive',\n",
              "                                                     [key], {});\n",
              "          if (!dataTable) return;\n",
              "\n",
              "          const docLinkHtml = 'Like what you see? Visit the ' +\n",
              "            '<a target=\"_blank\" href=https://colab.research.google.com/notebooks/data_table.ipynb>data table notebook</a>'\n",
              "            + ' to learn more about interactive tables.';\n",
              "          element.innerHTML = '';\n",
              "          dataTable['output_type'] = 'display_data';\n",
              "          await google.colab.output.renderOutput(dataTable, element);\n",
              "          const docLink = document.createElement('div');\n",
              "          docLink.innerHTML = docLinkHtml;\n",
              "          element.appendChild(docLink);\n",
              "        }\n",
              "      </script>\n",
              "    </div>\n",
              "  </div>\n",
              "  "
            ]
          },
          "metadata": {},
          "execution_count": 114
        }
      ]
    },
    {
      "cell_type": "markdown",
      "source": [
        "So we take the mean for the close price and put it in the blank value"
      ],
      "metadata": {
        "id": "pX8IA_ZK3I7o"
      }
    },
    {
      "cell_type": "code",
      "source": [
        "mean=0\n",
        "summ=0\n",
        "count=0\n",
        "for i in range(0,len(ccdata)):\n",
        "    if(ccdata.Prices.iloc[i]!=\"\"):\n",
        "        summ=summ+int(ccdata.Prices.iloc[i])\n",
        "        count=count+1\n",
        "mean=summ/count\n",
        "for i in range(0,len(ccdata)):\n",
        "    if(ccdata.Prices.iloc[i]==\"\"):\n",
        "        ccdata.Prices.iloc[i]=int(mean)"
      ],
      "metadata": {
        "id": "_PgOAX5y3Lfe"
      },
      "execution_count": null,
      "outputs": []
    },
    {
      "cell_type": "markdown",
      "metadata": {
        "id": "Ccy3n272Mf-n"
      },
      "source": [
        "#### Now all the entries have some value"
      ]
    },
    {
      "cell_type": "code",
      "execution_count": null,
      "metadata": {
        "ExecuteTime": {
          "end_time": "2021-09-22T09:39:39.559565Z",
          "start_time": "2021-09-22T09:39:39.547599Z"
        },
        "id": "wOj__mdxMf-n",
        "outputId": "c851bd15-2c95-4245-e539-10f1d026565f",
        "colab": {
          "base_uri": "https://localhost:8080/",
          "height": 424
        }
      },
      "outputs": [
        {
          "output_type": "execute_result",
          "data": {
            "text/plain": [
              "            Date                                             Tweets Prices\n",
              "0     2022-11-03  危機感を覚えるとしたらハイテクジャイアント。AAPL、MSFT　GOOGの売られ方が悪すぎる...    138\n",
              "1     2022-11-02   Profit Gang     Today's trades 🤑🤑🤑   SPY  AAP...    145\n",
              "2     2022-11-01   $SPY some bearishness, put divergence over ne...    150\n",
              "3     2022-10-31   $AAPL one of the most mentioned on 4chan over...    153\n",
              "4     2022-10-30   AAPL Won't Introduce New M2 Macs Until Next Y...     71\n",
              "...          ...                                                ...    ...\n",
              "2858  2015-01-06   9joshi1991 9lives A4PChat aap AAPL aas AASCDB...     26\n",
              "2859  2015-01-05   9joshi1991 9lives A4PChat aap AAPL aas AASCDB...     26\n",
              "2860  2015-01-04   AAPL /  : “That’s what the link-baiting press...     71\n",
              "2861  2015-01-03   Vamos pata abajo Y aapl parece liderar \": $AA...     71\n",
              "2862  2015-01-02   AAPL:Apple Falls on Watch Outlook, Big Blue L...     27\n",
              "\n",
              "[2863 rows x 3 columns]"
            ],
            "text/html": [
              "\n",
              "  <div id=\"df-dc8a0916-3692-48f9-b11b-8f25f35bfeef\">\n",
              "    <div class=\"colab-df-container\">\n",
              "      <div>\n",
              "<style scoped>\n",
              "    .dataframe tbody tr th:only-of-type {\n",
              "        vertical-align: middle;\n",
              "    }\n",
              "\n",
              "    .dataframe tbody tr th {\n",
              "        vertical-align: top;\n",
              "    }\n",
              "\n",
              "    .dataframe thead th {\n",
              "        text-align: right;\n",
              "    }\n",
              "</style>\n",
              "<table border=\"1\" class=\"dataframe\">\n",
              "  <thead>\n",
              "    <tr style=\"text-align: right;\">\n",
              "      <th></th>\n",
              "      <th>Date</th>\n",
              "      <th>Tweets</th>\n",
              "      <th>Prices</th>\n",
              "    </tr>\n",
              "  </thead>\n",
              "  <tbody>\n",
              "    <tr>\n",
              "      <th>0</th>\n",
              "      <td>2022-11-03</td>\n",
              "      <td>危機感を覚えるとしたらハイテクジャイアント。AAPL、MSFT　GOOGの売られ方が悪すぎる...</td>\n",
              "      <td>138</td>\n",
              "    </tr>\n",
              "    <tr>\n",
              "      <th>1</th>\n",
              "      <td>2022-11-02</td>\n",
              "      <td>Profit Gang     Today's trades 🤑🤑🤑   SPY  AAP...</td>\n",
              "      <td>145</td>\n",
              "    </tr>\n",
              "    <tr>\n",
              "      <th>2</th>\n",
              "      <td>2022-11-01</td>\n",
              "      <td>$SPY some bearishness, put divergence over ne...</td>\n",
              "      <td>150</td>\n",
              "    </tr>\n",
              "    <tr>\n",
              "      <th>3</th>\n",
              "      <td>2022-10-31</td>\n",
              "      <td>$AAPL one of the most mentioned on 4chan over...</td>\n",
              "      <td>153</td>\n",
              "    </tr>\n",
              "    <tr>\n",
              "      <th>4</th>\n",
              "      <td>2022-10-30</td>\n",
              "      <td>AAPL Won't Introduce New M2 Macs Until Next Y...</td>\n",
              "      <td>71</td>\n",
              "    </tr>\n",
              "    <tr>\n",
              "      <th>...</th>\n",
              "      <td>...</td>\n",
              "      <td>...</td>\n",
              "      <td>...</td>\n",
              "    </tr>\n",
              "    <tr>\n",
              "      <th>2858</th>\n",
              "      <td>2015-01-06</td>\n",
              "      <td>9joshi1991 9lives A4PChat aap AAPL aas AASCDB...</td>\n",
              "      <td>26</td>\n",
              "    </tr>\n",
              "    <tr>\n",
              "      <th>2859</th>\n",
              "      <td>2015-01-05</td>\n",
              "      <td>9joshi1991 9lives A4PChat aap AAPL aas AASCDB...</td>\n",
              "      <td>26</td>\n",
              "    </tr>\n",
              "    <tr>\n",
              "      <th>2860</th>\n",
              "      <td>2015-01-04</td>\n",
              "      <td>AAPL /  : “That’s what the link-baiting press...</td>\n",
              "      <td>71</td>\n",
              "    </tr>\n",
              "    <tr>\n",
              "      <th>2861</th>\n",
              "      <td>2015-01-03</td>\n",
              "      <td>Vamos pata abajo Y aapl parece liderar \": $AA...</td>\n",
              "      <td>71</td>\n",
              "    </tr>\n",
              "    <tr>\n",
              "      <th>2862</th>\n",
              "      <td>2015-01-02</td>\n",
              "      <td>AAPL:Apple Falls on Watch Outlook, Big Blue L...</td>\n",
              "      <td>27</td>\n",
              "    </tr>\n",
              "  </tbody>\n",
              "</table>\n",
              "<p>2863 rows × 3 columns</p>\n",
              "</div>\n",
              "      <button class=\"colab-df-convert\" onclick=\"convertToInteractive('df-dc8a0916-3692-48f9-b11b-8f25f35bfeef')\"\n",
              "              title=\"Convert this dataframe to an interactive table.\"\n",
              "              style=\"display:none;\">\n",
              "        \n",
              "  <svg xmlns=\"http://www.w3.org/2000/svg\" height=\"24px\"viewBox=\"0 0 24 24\"\n",
              "       width=\"24px\">\n",
              "    <path d=\"M0 0h24v24H0V0z\" fill=\"none\"/>\n",
              "    <path d=\"M18.56 5.44l.94 2.06.94-2.06 2.06-.94-2.06-.94-.94-2.06-.94 2.06-2.06.94zm-11 1L8.5 8.5l.94-2.06 2.06-.94-2.06-.94L8.5 2.5l-.94 2.06-2.06.94zm10 10l.94 2.06.94-2.06 2.06-.94-2.06-.94-.94-2.06-.94 2.06-2.06.94z\"/><path d=\"M17.41 7.96l-1.37-1.37c-.4-.4-.92-.59-1.43-.59-.52 0-1.04.2-1.43.59L10.3 9.45l-7.72 7.72c-.78.78-.78 2.05 0 2.83L4 21.41c.39.39.9.59 1.41.59.51 0 1.02-.2 1.41-.59l7.78-7.78 2.81-2.81c.8-.78.8-2.07 0-2.86zM5.41 20L4 18.59l7.72-7.72 1.47 1.35L5.41 20z\"/>\n",
              "  </svg>\n",
              "      </button>\n",
              "      \n",
              "  <style>\n",
              "    .colab-df-container {\n",
              "      display:flex;\n",
              "      flex-wrap:wrap;\n",
              "      gap: 12px;\n",
              "    }\n",
              "\n",
              "    .colab-df-convert {\n",
              "      background-color: #E8F0FE;\n",
              "      border: none;\n",
              "      border-radius: 50%;\n",
              "      cursor: pointer;\n",
              "      display: none;\n",
              "      fill: #1967D2;\n",
              "      height: 32px;\n",
              "      padding: 0 0 0 0;\n",
              "      width: 32px;\n",
              "    }\n",
              "\n",
              "    .colab-df-convert:hover {\n",
              "      background-color: #E2EBFA;\n",
              "      box-shadow: 0px 1px 2px rgba(60, 64, 67, 0.3), 0px 1px 3px 1px rgba(60, 64, 67, 0.15);\n",
              "      fill: #174EA6;\n",
              "    }\n",
              "\n",
              "    [theme=dark] .colab-df-convert {\n",
              "      background-color: #3B4455;\n",
              "      fill: #D2E3FC;\n",
              "    }\n",
              "\n",
              "    [theme=dark] .colab-df-convert:hover {\n",
              "      background-color: #434B5C;\n",
              "      box-shadow: 0px 1px 3px 1px rgba(0, 0, 0, 0.15);\n",
              "      filter: drop-shadow(0px 1px 2px rgba(0, 0, 0, 0.3));\n",
              "      fill: #FFFFFF;\n",
              "    }\n",
              "  </style>\n",
              "\n",
              "      <script>\n",
              "        const buttonEl =\n",
              "          document.querySelector('#df-dc8a0916-3692-48f9-b11b-8f25f35bfeef button.colab-df-convert');\n",
              "        buttonEl.style.display =\n",
              "          google.colab.kernel.accessAllowed ? 'block' : 'none';\n",
              "\n",
              "        async function convertToInteractive(key) {\n",
              "          const element = document.querySelector('#df-dc8a0916-3692-48f9-b11b-8f25f35bfeef');\n",
              "          const dataTable =\n",
              "            await google.colab.kernel.invokeFunction('convertToInteractive',\n",
              "                                                     [key], {});\n",
              "          if (!dataTable) return;\n",
              "\n",
              "          const docLinkHtml = 'Like what you see? Visit the ' +\n",
              "            '<a target=\"_blank\" href=https://colab.research.google.com/notebooks/data_table.ipynb>data table notebook</a>'\n",
              "            + ' to learn more about interactive tables.';\n",
              "          element.innerHTML = '';\n",
              "          dataTable['output_type'] = 'display_data';\n",
              "          await google.colab.output.renderOutput(dataTable, element);\n",
              "          const docLink = document.createElement('div');\n",
              "          docLink.innerHTML = docLinkHtml;\n",
              "          element.appendChild(docLink);\n",
              "        }\n",
              "      </script>\n",
              "    </div>\n",
              "  </div>\n",
              "  "
            ]
          },
          "metadata": {},
          "execution_count": 116
        }
      ],
      "source": [
        "ccdata"
      ]
    },
    {
      "cell_type": "markdown",
      "metadata": {
        "id": "VSRMUMLdMf-n"
      },
      "source": [
        "#### Making \"prices\" column as integer so mathematical operations could be performed easily."
      ]
    },
    {
      "cell_type": "code",
      "execution_count": null,
      "metadata": {
        "ExecuteTime": {
          "end_time": "2021-09-22T09:39:41.884443Z",
          "start_time": "2021-09-22T09:39:41.873474Z"
        },
        "id": "L6KdmtHHMf-n"
      },
      "outputs": [],
      "source": [
        "ccdata['Prices'] = ccdata['Prices'].apply(np.int64)"
      ]
    },
    {
      "cell_type": "markdown",
      "source": [
        "# Sentiment Analysis"
      ],
      "metadata": {
        "id": "mAuZ6nZ4Ea2i"
      }
    },
    {
      "cell_type": "markdown",
      "metadata": {
        "id": "Icb5Yq2VMf-n"
      },
      "source": [
        "## Adding 4 new columns in our dataframe so that sentiment analysis could be performed.. Comp is \"Compound\" it will tell whether the statement is overall negative or positive. If it has negative value then it is negative, if it has positive value then it is positive. If it has value 0, then it is neutral."
      ]
    },
    {
      "cell_type": "code",
      "execution_count": null,
      "metadata": {
        "ExecuteTime": {
          "end_time": "2021-09-22T09:39:42.917283Z",
          "start_time": "2021-09-22T09:39:42.894365Z"
        },
        "id": "FS7V21w-Mf-n",
        "outputId": "dc66d8c4-c6cb-42f4-9602-89d968f4394c",
        "colab": {
          "base_uri": "https://localhost:8080/",
          "height": 641
        }
      },
      "outputs": [
        {
          "output_type": "execute_result",
          "data": {
            "text/plain": [
              "            Date                                             Tweets  Prices  \\\n",
              "0     2022-11-03  危機感を覚えるとしたらハイテクジャイアント。AAPL、MSFT　GOOGの売られ方が悪すぎる...     138   \n",
              "1     2022-11-02   Profit Gang     Today's trades 🤑🤑🤑   SPY  AAP...     145   \n",
              "2     2022-11-01   $SPY some bearishness, put divergence over ne...     150   \n",
              "3     2022-10-31   $AAPL one of the most mentioned on 4chan over...     153   \n",
              "4     2022-10-30   AAPL Won't Introduce New M2 Macs Until Next Y...      71   \n",
              "...          ...                                                ...     ...   \n",
              "2858  2015-01-06   9joshi1991 9lives A4PChat aap AAPL aas AASCDB...      26   \n",
              "2859  2015-01-05   9joshi1991 9lives A4PChat aap AAPL aas AASCDB...      26   \n",
              "2860  2015-01-04   AAPL /  : “That’s what the link-baiting press...      71   \n",
              "2861  2015-01-03   Vamos pata abajo Y aapl parece liderar \": $AA...      71   \n",
              "2862  2015-01-02   AAPL:Apple Falls on Watch Outlook, Big Blue L...      27   \n",
              "\n",
              "     Comp Negative Neutral Positive  \n",
              "0                                    \n",
              "1                                    \n",
              "2                                    \n",
              "3                                    \n",
              "4                                    \n",
              "...   ...      ...     ...      ...  \n",
              "2858                                 \n",
              "2859                                 \n",
              "2860                                 \n",
              "2861                                 \n",
              "2862                                 \n",
              "\n",
              "[2863 rows x 7 columns]"
            ],
            "text/html": [
              "\n",
              "  <div id=\"df-2de7a743-50c5-480d-8432-7a0ff5cefc94\">\n",
              "    <div class=\"colab-df-container\">\n",
              "      <div>\n",
              "<style scoped>\n",
              "    .dataframe tbody tr th:only-of-type {\n",
              "        vertical-align: middle;\n",
              "    }\n",
              "\n",
              "    .dataframe tbody tr th {\n",
              "        vertical-align: top;\n",
              "    }\n",
              "\n",
              "    .dataframe thead th {\n",
              "        text-align: right;\n",
              "    }\n",
              "</style>\n",
              "<table border=\"1\" class=\"dataframe\">\n",
              "  <thead>\n",
              "    <tr style=\"text-align: right;\">\n",
              "      <th></th>\n",
              "      <th>Date</th>\n",
              "      <th>Tweets</th>\n",
              "      <th>Prices</th>\n",
              "      <th>Comp</th>\n",
              "      <th>Negative</th>\n",
              "      <th>Neutral</th>\n",
              "      <th>Positive</th>\n",
              "    </tr>\n",
              "  </thead>\n",
              "  <tbody>\n",
              "    <tr>\n",
              "      <th>0</th>\n",
              "      <td>2022-11-03</td>\n",
              "      <td>危機感を覚えるとしたらハイテクジャイアント。AAPL、MSFT　GOOGの売られ方が悪すぎる...</td>\n",
              "      <td>138</td>\n",
              "      <td></td>\n",
              "      <td></td>\n",
              "      <td></td>\n",
              "      <td></td>\n",
              "    </tr>\n",
              "    <tr>\n",
              "      <th>1</th>\n",
              "      <td>2022-11-02</td>\n",
              "      <td>Profit Gang     Today's trades 🤑🤑🤑   SPY  AAP...</td>\n",
              "      <td>145</td>\n",
              "      <td></td>\n",
              "      <td></td>\n",
              "      <td></td>\n",
              "      <td></td>\n",
              "    </tr>\n",
              "    <tr>\n",
              "      <th>2</th>\n",
              "      <td>2022-11-01</td>\n",
              "      <td>$SPY some bearishness, put divergence over ne...</td>\n",
              "      <td>150</td>\n",
              "      <td></td>\n",
              "      <td></td>\n",
              "      <td></td>\n",
              "      <td></td>\n",
              "    </tr>\n",
              "    <tr>\n",
              "      <th>3</th>\n",
              "      <td>2022-10-31</td>\n",
              "      <td>$AAPL one of the most mentioned on 4chan over...</td>\n",
              "      <td>153</td>\n",
              "      <td></td>\n",
              "      <td></td>\n",
              "      <td></td>\n",
              "      <td></td>\n",
              "    </tr>\n",
              "    <tr>\n",
              "      <th>4</th>\n",
              "      <td>2022-10-30</td>\n",
              "      <td>AAPL Won't Introduce New M2 Macs Until Next Y...</td>\n",
              "      <td>71</td>\n",
              "      <td></td>\n",
              "      <td></td>\n",
              "      <td></td>\n",
              "      <td></td>\n",
              "    </tr>\n",
              "    <tr>\n",
              "      <th>...</th>\n",
              "      <td>...</td>\n",
              "      <td>...</td>\n",
              "      <td>...</td>\n",
              "      <td>...</td>\n",
              "      <td>...</td>\n",
              "      <td>...</td>\n",
              "      <td>...</td>\n",
              "    </tr>\n",
              "    <tr>\n",
              "      <th>2858</th>\n",
              "      <td>2015-01-06</td>\n",
              "      <td>9joshi1991 9lives A4PChat aap AAPL aas AASCDB...</td>\n",
              "      <td>26</td>\n",
              "      <td></td>\n",
              "      <td></td>\n",
              "      <td></td>\n",
              "      <td></td>\n",
              "    </tr>\n",
              "    <tr>\n",
              "      <th>2859</th>\n",
              "      <td>2015-01-05</td>\n",
              "      <td>9joshi1991 9lives A4PChat aap AAPL aas AASCDB...</td>\n",
              "      <td>26</td>\n",
              "      <td></td>\n",
              "      <td></td>\n",
              "      <td></td>\n",
              "      <td></td>\n",
              "    </tr>\n",
              "    <tr>\n",
              "      <th>2860</th>\n",
              "      <td>2015-01-04</td>\n",
              "      <td>AAPL /  : “That’s what the link-baiting press...</td>\n",
              "      <td>71</td>\n",
              "      <td></td>\n",
              "      <td></td>\n",
              "      <td></td>\n",
              "      <td></td>\n",
              "    </tr>\n",
              "    <tr>\n",
              "      <th>2861</th>\n",
              "      <td>2015-01-03</td>\n",
              "      <td>Vamos pata abajo Y aapl parece liderar \": $AA...</td>\n",
              "      <td>71</td>\n",
              "      <td></td>\n",
              "      <td></td>\n",
              "      <td></td>\n",
              "      <td></td>\n",
              "    </tr>\n",
              "    <tr>\n",
              "      <th>2862</th>\n",
              "      <td>2015-01-02</td>\n",
              "      <td>AAPL:Apple Falls on Watch Outlook, Big Blue L...</td>\n",
              "      <td>27</td>\n",
              "      <td></td>\n",
              "      <td></td>\n",
              "      <td></td>\n",
              "      <td></td>\n",
              "    </tr>\n",
              "  </tbody>\n",
              "</table>\n",
              "<p>2863 rows × 7 columns</p>\n",
              "</div>\n",
              "      <button class=\"colab-df-convert\" onclick=\"convertToInteractive('df-2de7a743-50c5-480d-8432-7a0ff5cefc94')\"\n",
              "              title=\"Convert this dataframe to an interactive table.\"\n",
              "              style=\"display:none;\">\n",
              "        \n",
              "  <svg xmlns=\"http://www.w3.org/2000/svg\" height=\"24px\"viewBox=\"0 0 24 24\"\n",
              "       width=\"24px\">\n",
              "    <path d=\"M0 0h24v24H0V0z\" fill=\"none\"/>\n",
              "    <path d=\"M18.56 5.44l.94 2.06.94-2.06 2.06-.94-2.06-.94-.94-2.06-.94 2.06-2.06.94zm-11 1L8.5 8.5l.94-2.06 2.06-.94-2.06-.94L8.5 2.5l-.94 2.06-2.06.94zm10 10l.94 2.06.94-2.06 2.06-.94-2.06-.94-.94-2.06-.94 2.06-2.06.94z\"/><path d=\"M17.41 7.96l-1.37-1.37c-.4-.4-.92-.59-1.43-.59-.52 0-1.04.2-1.43.59L10.3 9.45l-7.72 7.72c-.78.78-.78 2.05 0 2.83L4 21.41c.39.39.9.59 1.41.59.51 0 1.02-.2 1.41-.59l7.78-7.78 2.81-2.81c.8-.78.8-2.07 0-2.86zM5.41 20L4 18.59l7.72-7.72 1.47 1.35L5.41 20z\"/>\n",
              "  </svg>\n",
              "      </button>\n",
              "      \n",
              "  <style>\n",
              "    .colab-df-container {\n",
              "      display:flex;\n",
              "      flex-wrap:wrap;\n",
              "      gap: 12px;\n",
              "    }\n",
              "\n",
              "    .colab-df-convert {\n",
              "      background-color: #E8F0FE;\n",
              "      border: none;\n",
              "      border-radius: 50%;\n",
              "      cursor: pointer;\n",
              "      display: none;\n",
              "      fill: #1967D2;\n",
              "      height: 32px;\n",
              "      padding: 0 0 0 0;\n",
              "      width: 32px;\n",
              "    }\n",
              "\n",
              "    .colab-df-convert:hover {\n",
              "      background-color: #E2EBFA;\n",
              "      box-shadow: 0px 1px 2px rgba(60, 64, 67, 0.3), 0px 1px 3px 1px rgba(60, 64, 67, 0.15);\n",
              "      fill: #174EA6;\n",
              "    }\n",
              "\n",
              "    [theme=dark] .colab-df-convert {\n",
              "      background-color: #3B4455;\n",
              "      fill: #D2E3FC;\n",
              "    }\n",
              "\n",
              "    [theme=dark] .colab-df-convert:hover {\n",
              "      background-color: #434B5C;\n",
              "      box-shadow: 0px 1px 3px 1px rgba(0, 0, 0, 0.15);\n",
              "      filter: drop-shadow(0px 1px 2px rgba(0, 0, 0, 0.3));\n",
              "      fill: #FFFFFF;\n",
              "    }\n",
              "  </style>\n",
              "\n",
              "      <script>\n",
              "        const buttonEl =\n",
              "          document.querySelector('#df-2de7a743-50c5-480d-8432-7a0ff5cefc94 button.colab-df-convert');\n",
              "        buttonEl.style.display =\n",
              "          google.colab.kernel.accessAllowed ? 'block' : 'none';\n",
              "\n",
              "        async function convertToInteractive(key) {\n",
              "          const element = document.querySelector('#df-2de7a743-50c5-480d-8432-7a0ff5cefc94');\n",
              "          const dataTable =\n",
              "            await google.colab.kernel.invokeFunction('convertToInteractive',\n",
              "                                                     [key], {});\n",
              "          if (!dataTable) return;\n",
              "\n",
              "          const docLinkHtml = 'Like what you see? Visit the ' +\n",
              "            '<a target=\"_blank\" href=https://colab.research.google.com/notebooks/data_table.ipynb>data table notebook</a>'\n",
              "            + ' to learn more about interactive tables.';\n",
              "          element.innerHTML = '';\n",
              "          dataTable['output_type'] = 'display_data';\n",
              "          await google.colab.output.renderOutput(dataTable, element);\n",
              "          const docLink = document.createElement('div');\n",
              "          docLink.innerHTML = docLinkHtml;\n",
              "          element.appendChild(docLink);\n",
              "        }\n",
              "      </script>\n",
              "    </div>\n",
              "  </div>\n",
              "  "
            ]
          },
          "metadata": {},
          "execution_count": 118
        }
      ],
      "source": [
        "ccdata[\"Comp\"] = ''\n",
        "ccdata[\"Negative\"] = ''\n",
        "ccdata[\"Neutral\"] = ''\n",
        "ccdata[\"Positive\"] = ''\n",
        "ccdata"
      ]
    },
    {
      "cell_type": "markdown",
      "metadata": {
        "id": "QB7WNqLRMf-n"
      },
      "source": [
        "#### Downloading this package was essential to perform sentiment analysis."
      ]
    },
    {
      "cell_type": "code",
      "execution_count": null,
      "metadata": {
        "ExecuteTime": {
          "end_time": "2021-09-22T09:39:45.645882Z",
          "start_time": "2021-09-22T09:39:44.853380Z"
        },
        "id": "ZuQ7X0oYMf-n",
        "outputId": "f5b46fd0-fe16-47f6-abb7-5328f5d55dfb",
        "colab": {
          "base_uri": "https://localhost:8080/"
        }
      },
      "outputs": [
        {
          "output_type": "stream",
          "name": "stderr",
          "text": [
            "[nltk_data] Downloading package vader_lexicon to /root/nltk_data...\n"
          ]
        },
        {
          "output_type": "execute_result",
          "data": {
            "text/plain": [
              "True"
            ]
          },
          "metadata": {},
          "execution_count": 119
        }
      ],
      "source": [
        "import nltk\n",
        "nltk.download('vader_lexicon')"
      ]
    },
    {
      "cell_type": "markdown",
      "metadata": {
        "id": "jHYgjZyBMf-o"
      },
      "source": [
        "#### This part of the code is responsible for assigning the polarity for each statement. That is how much positive, negative, neutral you statement is. And also assign the compound value that is overall sentiment of the statement."
      ]
    },
    {
      "cell_type": "code",
      "execution_count": null,
      "metadata": {
        "ExecuteTime": {
          "end_time": "2021-09-22T09:41:51.701865Z",
          "start_time": "2021-09-22T09:41:51.584148Z"
        },
        "id": "zrEeuP05Mf-o",
        "outputId": "c4389f9e-c834-4371-de6a-6232f54c560c",
        "colab": {
          "base_uri": "https://localhost:8080/"
        }
      },
      "outputs": [
        {
          "output_type": "stream",
          "name": "stderr",
          "text": [
            "/usr/local/lib/python3.7/dist-packages/pandas/core/indexing.py:1732: SettingWithCopyWarning: \n",
            "A value is trying to be set on a copy of a slice from a DataFrame\n",
            "\n",
            "See the caveats in the documentation: https://pandas.pydata.org/pandas-docs/stable/user_guide/indexing.html#returning-a-view-versus-a-copy\n",
            "  self._setitem_single_block(indexer, value, name)\n"
          ]
        }
      ],
      "source": [
        "from nltk.sentiment.vader import SentimentIntensityAnalyzer\n",
        "from nltk.sentiment.vader import SentimentIntensityAnalyzer\n",
        "import unicodedata\n",
        "sentiment_i_a = SentimentIntensityAnalyzer()\n",
        "for indexx, row in ccdata.T.iteritems():\n",
        "    try:\n",
        "        sentence_i = unicodedata.normalize('NFKD', ccdata.loc[indexx, 'Tweets'])\n",
        "        sentence_sentiment = sentiment_i_a.polarity_scores(sentence_i)\n",
        "        ccdata['Comp'].iloc[indexx] = sentence_sentiment['compound']\n",
        "        ccdata['Negative'].iloc[indexx] = sentence_sentiment['neg']\n",
        "        ccdata['Neutral'].iloc[indexx] = sentence_sentiment['neu']\n",
        "        ccdata['Positive'].iloc[indexx] = sentence_sentiment['compound']\n",
        "        # ccdata.set_value(indexx, 'Comp', sentence_sentiment['pos'])\n",
        "        # ccdata.set_value(indexx, 'Negative', sentence_sentiment['neg'])\n",
        "        # ccdata.set_value(indexx, 'Neutral', sentence_sentiment['neu'])\n",
        "        # ccdata.set_value(indexx, 'Positive', sentence_sentiment['pos'])\n",
        "    except TypeError:\n",
        "        print (stocks_dataf.loc[indexx, 'Tweets'])\n",
        "        print (indexx)"
      ]
    },
    {
      "cell_type": "code",
      "execution_count": null,
      "metadata": {
        "ExecuteTime": {
          "end_time": "2021-09-22T09:41:52.464197Z",
          "start_time": "2021-09-22T09:41:52.452260Z"
        },
        "id": "A3Q5icraMf-o",
        "outputId": "2b2ea39d-0449-4606-ee4d-05e8c9ce5010",
        "colab": {
          "base_uri": "https://localhost:8080/",
          "height": 641
        }
      },
      "outputs": [
        {
          "output_type": "execute_result",
          "data": {
            "text/plain": [
              "            Date                                             Tweets  Prices  \\\n",
              "0     2022-11-03  危機感を覚えるとしたらハイテクジャイアント。AAPL、MSFT　GOOGの売られ方が悪すぎる...     138   \n",
              "1     2022-11-02   Profit Gang     Today's trades 🤑🤑🤑   SPY  AAP...     145   \n",
              "2     2022-11-01   $SPY some bearishness, put divergence over ne...     150   \n",
              "3     2022-10-31   $AAPL one of the most mentioned on 4chan over...     153   \n",
              "4     2022-10-30   AAPL Won't Introduce New M2 Macs Until Next Y...      71   \n",
              "...          ...                                                ...     ...   \n",
              "2858  2015-01-06   9joshi1991 9lives A4PChat aap AAPL aas AASCDB...      26   \n",
              "2859  2015-01-05   9joshi1991 9lives A4PChat aap AAPL aas AASCDB...      26   \n",
              "2860  2015-01-04   AAPL /  : “That’s what the link-baiting press...      71   \n",
              "2861  2015-01-03   Vamos pata abajo Y aapl parece liderar \": $AA...      71   \n",
              "2862  2015-01-02   AAPL:Apple Falls on Watch Outlook, Big Blue L...      27   \n",
              "\n",
              "        Comp Negative Neutral Positive  \n",
              "0     0.9991    0.049   0.857   0.9991  \n",
              "1     0.9971    0.044   0.884   0.9971  \n",
              "2     0.9988    0.032   0.872   0.9988  \n",
              "3     0.9992    0.043   0.853   0.9992  \n",
              "4     0.9988    0.031   0.889   0.9988  \n",
              "...      ...      ...     ...      ...  \n",
              "2858  0.9999    0.029   0.815   0.9999  \n",
              "2859  0.9995    0.029   0.866   0.9995  \n",
              "2860   0.999     0.03    0.83    0.999  \n",
              "2861  0.9991     0.04   0.801   0.9991  \n",
              "2862  0.9976    0.058    0.83   0.9976  \n",
              "\n",
              "[2863 rows x 7 columns]"
            ],
            "text/html": [
              "\n",
              "  <div id=\"df-5e0774d4-9a58-4dad-b087-1f0fb6bf680f\">\n",
              "    <div class=\"colab-df-container\">\n",
              "      <div>\n",
              "<style scoped>\n",
              "    .dataframe tbody tr th:only-of-type {\n",
              "        vertical-align: middle;\n",
              "    }\n",
              "\n",
              "    .dataframe tbody tr th {\n",
              "        vertical-align: top;\n",
              "    }\n",
              "\n",
              "    .dataframe thead th {\n",
              "        text-align: right;\n",
              "    }\n",
              "</style>\n",
              "<table border=\"1\" class=\"dataframe\">\n",
              "  <thead>\n",
              "    <tr style=\"text-align: right;\">\n",
              "      <th></th>\n",
              "      <th>Date</th>\n",
              "      <th>Tweets</th>\n",
              "      <th>Prices</th>\n",
              "      <th>Comp</th>\n",
              "      <th>Negative</th>\n",
              "      <th>Neutral</th>\n",
              "      <th>Positive</th>\n",
              "    </tr>\n",
              "  </thead>\n",
              "  <tbody>\n",
              "    <tr>\n",
              "      <th>0</th>\n",
              "      <td>2022-11-03</td>\n",
              "      <td>危機感を覚えるとしたらハイテクジャイアント。AAPL、MSFT　GOOGの売られ方が悪すぎる...</td>\n",
              "      <td>138</td>\n",
              "      <td>0.9991</td>\n",
              "      <td>0.049</td>\n",
              "      <td>0.857</td>\n",
              "      <td>0.9991</td>\n",
              "    </tr>\n",
              "    <tr>\n",
              "      <th>1</th>\n",
              "      <td>2022-11-02</td>\n",
              "      <td>Profit Gang     Today's trades 🤑🤑🤑   SPY  AAP...</td>\n",
              "      <td>145</td>\n",
              "      <td>0.9971</td>\n",
              "      <td>0.044</td>\n",
              "      <td>0.884</td>\n",
              "      <td>0.9971</td>\n",
              "    </tr>\n",
              "    <tr>\n",
              "      <th>2</th>\n",
              "      <td>2022-11-01</td>\n",
              "      <td>$SPY some bearishness, put divergence over ne...</td>\n",
              "      <td>150</td>\n",
              "      <td>0.9988</td>\n",
              "      <td>0.032</td>\n",
              "      <td>0.872</td>\n",
              "      <td>0.9988</td>\n",
              "    </tr>\n",
              "    <tr>\n",
              "      <th>3</th>\n",
              "      <td>2022-10-31</td>\n",
              "      <td>$AAPL one of the most mentioned on 4chan over...</td>\n",
              "      <td>153</td>\n",
              "      <td>0.9992</td>\n",
              "      <td>0.043</td>\n",
              "      <td>0.853</td>\n",
              "      <td>0.9992</td>\n",
              "    </tr>\n",
              "    <tr>\n",
              "      <th>4</th>\n",
              "      <td>2022-10-30</td>\n",
              "      <td>AAPL Won't Introduce New M2 Macs Until Next Y...</td>\n",
              "      <td>71</td>\n",
              "      <td>0.9988</td>\n",
              "      <td>0.031</td>\n",
              "      <td>0.889</td>\n",
              "      <td>0.9988</td>\n",
              "    </tr>\n",
              "    <tr>\n",
              "      <th>...</th>\n",
              "      <td>...</td>\n",
              "      <td>...</td>\n",
              "      <td>...</td>\n",
              "      <td>...</td>\n",
              "      <td>...</td>\n",
              "      <td>...</td>\n",
              "      <td>...</td>\n",
              "    </tr>\n",
              "    <tr>\n",
              "      <th>2858</th>\n",
              "      <td>2015-01-06</td>\n",
              "      <td>9joshi1991 9lives A4PChat aap AAPL aas AASCDB...</td>\n",
              "      <td>26</td>\n",
              "      <td>0.9999</td>\n",
              "      <td>0.029</td>\n",
              "      <td>0.815</td>\n",
              "      <td>0.9999</td>\n",
              "    </tr>\n",
              "    <tr>\n",
              "      <th>2859</th>\n",
              "      <td>2015-01-05</td>\n",
              "      <td>9joshi1991 9lives A4PChat aap AAPL aas AASCDB...</td>\n",
              "      <td>26</td>\n",
              "      <td>0.9995</td>\n",
              "      <td>0.029</td>\n",
              "      <td>0.866</td>\n",
              "      <td>0.9995</td>\n",
              "    </tr>\n",
              "    <tr>\n",
              "      <th>2860</th>\n",
              "      <td>2015-01-04</td>\n",
              "      <td>AAPL /  : “That’s what the link-baiting press...</td>\n",
              "      <td>71</td>\n",
              "      <td>0.999</td>\n",
              "      <td>0.03</td>\n",
              "      <td>0.83</td>\n",
              "      <td>0.999</td>\n",
              "    </tr>\n",
              "    <tr>\n",
              "      <th>2861</th>\n",
              "      <td>2015-01-03</td>\n",
              "      <td>Vamos pata abajo Y aapl parece liderar \": $AA...</td>\n",
              "      <td>71</td>\n",
              "      <td>0.9991</td>\n",
              "      <td>0.04</td>\n",
              "      <td>0.801</td>\n",
              "      <td>0.9991</td>\n",
              "    </tr>\n",
              "    <tr>\n",
              "      <th>2862</th>\n",
              "      <td>2015-01-02</td>\n",
              "      <td>AAPL:Apple Falls on Watch Outlook, Big Blue L...</td>\n",
              "      <td>27</td>\n",
              "      <td>0.9976</td>\n",
              "      <td>0.058</td>\n",
              "      <td>0.83</td>\n",
              "      <td>0.9976</td>\n",
              "    </tr>\n",
              "  </tbody>\n",
              "</table>\n",
              "<p>2863 rows × 7 columns</p>\n",
              "</div>\n",
              "      <button class=\"colab-df-convert\" onclick=\"convertToInteractive('df-5e0774d4-9a58-4dad-b087-1f0fb6bf680f')\"\n",
              "              title=\"Convert this dataframe to an interactive table.\"\n",
              "              style=\"display:none;\">\n",
              "        \n",
              "  <svg xmlns=\"http://www.w3.org/2000/svg\" height=\"24px\"viewBox=\"0 0 24 24\"\n",
              "       width=\"24px\">\n",
              "    <path d=\"M0 0h24v24H0V0z\" fill=\"none\"/>\n",
              "    <path d=\"M18.56 5.44l.94 2.06.94-2.06 2.06-.94-2.06-.94-.94-2.06-.94 2.06-2.06.94zm-11 1L8.5 8.5l.94-2.06 2.06-.94-2.06-.94L8.5 2.5l-.94 2.06-2.06.94zm10 10l.94 2.06.94-2.06 2.06-.94-2.06-.94-.94-2.06-.94 2.06-2.06.94z\"/><path d=\"M17.41 7.96l-1.37-1.37c-.4-.4-.92-.59-1.43-.59-.52 0-1.04.2-1.43.59L10.3 9.45l-7.72 7.72c-.78.78-.78 2.05 0 2.83L4 21.41c.39.39.9.59 1.41.59.51 0 1.02-.2 1.41-.59l7.78-7.78 2.81-2.81c.8-.78.8-2.07 0-2.86zM5.41 20L4 18.59l7.72-7.72 1.47 1.35L5.41 20z\"/>\n",
              "  </svg>\n",
              "      </button>\n",
              "      \n",
              "  <style>\n",
              "    .colab-df-container {\n",
              "      display:flex;\n",
              "      flex-wrap:wrap;\n",
              "      gap: 12px;\n",
              "    }\n",
              "\n",
              "    .colab-df-convert {\n",
              "      background-color: #E8F0FE;\n",
              "      border: none;\n",
              "      border-radius: 50%;\n",
              "      cursor: pointer;\n",
              "      display: none;\n",
              "      fill: #1967D2;\n",
              "      height: 32px;\n",
              "      padding: 0 0 0 0;\n",
              "      width: 32px;\n",
              "    }\n",
              "\n",
              "    .colab-df-convert:hover {\n",
              "      background-color: #E2EBFA;\n",
              "      box-shadow: 0px 1px 2px rgba(60, 64, 67, 0.3), 0px 1px 3px 1px rgba(60, 64, 67, 0.15);\n",
              "      fill: #174EA6;\n",
              "    }\n",
              "\n",
              "    [theme=dark] .colab-df-convert {\n",
              "      background-color: #3B4455;\n",
              "      fill: #D2E3FC;\n",
              "    }\n",
              "\n",
              "    [theme=dark] .colab-df-convert:hover {\n",
              "      background-color: #434B5C;\n",
              "      box-shadow: 0px 1px 3px 1px rgba(0, 0, 0, 0.15);\n",
              "      filter: drop-shadow(0px 1px 2px rgba(0, 0, 0, 0.3));\n",
              "      fill: #FFFFFF;\n",
              "    }\n",
              "  </style>\n",
              "\n",
              "      <script>\n",
              "        const buttonEl =\n",
              "          document.querySelector('#df-5e0774d4-9a58-4dad-b087-1f0fb6bf680f button.colab-df-convert');\n",
              "        buttonEl.style.display =\n",
              "          google.colab.kernel.accessAllowed ? 'block' : 'none';\n",
              "\n",
              "        async function convertToInteractive(key) {\n",
              "          const element = document.querySelector('#df-5e0774d4-9a58-4dad-b087-1f0fb6bf680f');\n",
              "          const dataTable =\n",
              "            await google.colab.kernel.invokeFunction('convertToInteractive',\n",
              "                                                     [key], {});\n",
              "          if (!dataTable) return;\n",
              "\n",
              "          const docLinkHtml = 'Like what you see? Visit the ' +\n",
              "            '<a target=\"_blank\" href=https://colab.research.google.com/notebooks/data_table.ipynb>data table notebook</a>'\n",
              "            + ' to learn more about interactive tables.';\n",
              "          element.innerHTML = '';\n",
              "          dataTable['output_type'] = 'display_data';\n",
              "          await google.colab.output.renderOutput(dataTable, element);\n",
              "          const docLink = document.createElement('div');\n",
              "          docLink.innerHTML = docLinkHtml;\n",
              "          element.appendChild(docLink);\n",
              "        }\n",
              "      </script>\n",
              "    </div>\n",
              "  </div>\n",
              "  "
            ]
          },
          "metadata": {},
          "execution_count": 121
        }
      ],
      "source": [
        "ccdata"
      ]
    },
    {
      "cell_type": "markdown",
      "metadata": {
        "id": "ytp4g600Mf-o"
      },
      "source": [
        "#### Calculating the percentage of postive and negative tweets, and plotting the PIE chart for the same."
      ]
    },
    {
      "cell_type": "code",
      "execution_count": null,
      "metadata": {
        "ExecuteTime": {
          "end_time": "2021-09-22T09:43:58.673907Z",
          "start_time": "2021-09-22T09:43:58.601071Z"
        },
        "scrolled": true,
        "id": "ONGvvOUgMf-o",
        "outputId": "25f50f88-d68b-4a10-ad34-1ba5d4d7e06e",
        "colab": {
          "base_uri": "https://localhost:8080/",
          "height": 302
        }
      },
      "outputs": [
        {
          "output_type": "stream",
          "name": "stdout",
          "text": [
            "% of positive tweets=  94.72581208522529\n",
            "% of negative tweets=  5.169402724414949\n"
          ]
        },
        {
          "output_type": "execute_result",
          "data": {
            "text/plain": [
              "[]"
            ]
          },
          "metadata": {},
          "execution_count": 123
        },
        {
          "output_type": "display_data",
          "data": {
            "text/plain": [
              "<Figure size 432x288 with 1 Axes>"
            ],
            "image/png": "[encoded data removed]"
          },
          "metadata": {}
        }
      ],
      "source": [
        "posi=0\n",
        "nega=0\n",
        "for i in range (0,len(ccdata)):\n",
        "    get_val=ccdata.Comp[i]\n",
        "    if(float(get_val)<(0)):\n",
        "        nega=nega+1\n",
        "    if(float(get_val>(0))):\n",
        "        posi=posi+1\n",
        "posper=(posi/(len(ccdata)))*100\n",
        "negper=(nega/(len(ccdata)))*100\n",
        "print(\"% of positive tweets= \",posper)\n",
        "print(\"% of negative tweets= \",negper)\n",
        "arr=np.asarray([posper,negper], dtype=int)\n",
        "mlpt.pie(arr,labels=['positive','negative'])\n",
        "mlpt.plot()"
      ]
    },
    {
      "cell_type": "markdown",
      "source": [
        "# Making Data Ordinal for training "
      ],
      "metadata": {
        "id": "lKa_bM-sEPTy"
      }
    },
    {
      "cell_type": "code",
      "source": [
        "import datetime as dt\n",
        "data = ccdata\n",
        "data['Date']=data['Date'].map(dt.datetime.toordinal)"
      ],
      "metadata": {
        "id": "t_qY9Sr55S6F"
      },
      "execution_count": null,
      "outputs": []
    },
    {
      "cell_type": "code",
      "source": [
        "data"
      ],
      "metadata": {
        "colab": {
          "base_uri": "https://localhost:8080/",
          "height": 485
        },
        "id": "2S99cSv181ia",
        "outputId": "e23524fe-d82e-4362-918f-d5371d2c4dca"
      },
      "execution_count": null,
      "outputs": [
        {
          "output_type": "execute_result",
          "data": {
            "text/plain": [
              "        Date                                             Tweets  Prices  \\\n",
              "0     738462  危機感を覚えるとしたらハイテクジャイアント。AAPL、MSFT　GOOGの売られ方が悪すぎる...     138   \n",
              "1     738461   Profit Gang     Today's trades 🤑🤑🤑   SPY  AAP...     145   \n",
              "2     738460   $SPY some bearishness, put divergence over ne...     150   \n",
              "3     738459   $AAPL one of the most mentioned on 4chan over...     153   \n",
              "4     738458   AAPL Won't Introduce New M2 Macs Until Next Y...      71   \n",
              "...      ...                                                ...     ...   \n",
              "2858  735604   9joshi1991 9lives A4PChat aap AAPL aas AASCDB...      26   \n",
              "2859  735603   9joshi1991 9lives A4PChat aap AAPL aas AASCDB...      26   \n",
              "2860  735602   AAPL /  : “That’s what the link-baiting press...      71   \n",
              "2861  735601   Vamos pata abajo Y aapl parece liderar \": $AA...      71   \n",
              "2862  735600   AAPL:Apple Falls on Watch Outlook, Big Blue L...      27   \n",
              "\n",
              "        Comp Negative Neutral Positive  \n",
              "0     0.9991    0.049   0.857   0.9991  \n",
              "1     0.9971    0.044   0.884   0.9971  \n",
              "2     0.9988    0.032   0.872   0.9988  \n",
              "3     0.9992    0.043   0.853   0.9992  \n",
              "4     0.9988    0.031   0.889   0.9988  \n",
              "...      ...      ...     ...      ...  \n",
              "2858  0.9999    0.029   0.815   0.9999  \n",
              "2859  0.9995    0.029   0.866   0.9995  \n",
              "2860   0.999     0.03    0.83    0.999  \n",
              "2861  0.9991     0.04   0.801   0.9991  \n",
              "2862  0.9976    0.058    0.83   0.9976  \n",
              "\n",
              "[2863 rows x 7 columns]"
            ],
            "text/html": [
              "\n",
              "  <div id=\"df-35e696df-02d6-4eaf-a3b2-3c56f5700b55\">\n",
              "    <div class=\"colab-df-container\">\n",
              "      <div>\n",
              "<style scoped>\n",
              "    .dataframe tbody tr th:only-of-type {\n",
              "        vertical-align: middle;\n",
              "    }\n",
              "\n",
              "    .dataframe tbody tr th {\n",
              "        vertical-align: top;\n",
              "    }\n",
              "\n",
              "    .dataframe thead th {\n",
              "        text-align: right;\n",
              "    }\n",
              "</style>\n",
              "<table border=\"1\" class=\"dataframe\">\n",
              "  <thead>\n",
              "    <tr style=\"text-align: right;\">\n",
              "      <th></th>\n",
              "      <th>Date</th>\n",
              "      <th>Tweets</th>\n",
              "      <th>Prices</th>\n",
              "      <th>Comp</th>\n",
              "      <th>Negative</th>\n",
              "      <th>Neutral</th>\n",
              "      <th>Positive</th>\n",
              "    </tr>\n",
              "  </thead>\n",
              "  <tbody>\n",
              "    <tr>\n",
              "      <th>0</th>\n",
              "      <td>738462</td>\n",
              "      <td>危機感を覚えるとしたらハイテクジャイアント。AAPL、MSFT　GOOGの売られ方が悪すぎる...</td>\n",
              "      <td>138</td>\n",
              "      <td>0.9991</td>\n",
              "      <td>0.049</td>\n",
              "      <td>0.857</td>\n",
              "      <td>0.9991</td>\n",
              "    </tr>\n",
              "    <tr>\n",
              "      <th>1</th>\n",
              "      <td>738461</td>\n",
              "      <td>Profit Gang     Today's trades 🤑🤑🤑   SPY  AAP...</td>\n",
              "      <td>145</td>\n",
              "      <td>0.9971</td>\n",
              "      <td>0.044</td>\n",
              "      <td>0.884</td>\n",
              "      <td>0.9971</td>\n",
              "    </tr>\n",
              "    <tr>\n",
              "      <th>2</th>\n",
              "      <td>738460</td>\n",
              "      <td>$SPY some bearishness, put divergence over ne...</td>\n",
              "      <td>150</td>\n",
              "      <td>0.9988</td>\n",
              "      <td>0.032</td>\n",
              "      <td>0.872</td>\n",
              "      <td>0.9988</td>\n",
              "    </tr>\n",
              "    <tr>\n",
              "      <th>3</th>\n",
              "      <td>738459</td>\n",
              "      <td>$AAPL one of the most mentioned on 4chan over...</td>\n",
              "      <td>153</td>\n",
              "      <td>0.9992</td>\n",
              "      <td>0.043</td>\n",
              "      <td>0.853</td>\n",
              "      <td>0.9992</td>\n",
              "    </tr>\n",
              "    <tr>\n",
              "      <th>4</th>\n",
              "      <td>738458</td>\n",
              "      <td>AAPL Won't Introduce New M2 Macs Until Next Y...</td>\n",
              "      <td>71</td>\n",
              "      <td>0.9988</td>\n",
              "      <td>0.031</td>\n",
              "      <td>0.889</td>\n",
              "      <td>0.9988</td>\n",
              "    </tr>\n",
              "    <tr>\n",
              "      <th>...</th>\n",
              "      <td>...</td>\n",
              "      <td>...</td>\n",
              "      <td>...</td>\n",
              "      <td>...</td>\n",
              "      <td>...</td>\n",
              "      <td>...</td>\n",
              "      <td>...</td>\n",
              "    </tr>\n",
              "    <tr>\n",
              "      <th>2858</th>\n",
              "      <td>735604</td>\n",
              "      <td>9joshi1991 9lives A4PChat aap AAPL aas AASCDB...</td>\n",
              "      <td>26</td>\n",
              "      <td>0.9999</td>\n",
              "      <td>0.029</td>\n",
              "      <td>0.815</td>\n",
              "      <td>0.9999</td>\n",
              "    </tr>\n",
              "    <tr>\n",
              "      <th>2859</th>\n",
              "      <td>735603</td>\n",
              "      <td>9joshi1991 9lives A4PChat aap AAPL aas AASCDB...</td>\n",
              "      <td>26</td>\n",
              "      <td>0.9995</td>\n",
              "      <td>0.029</td>\n",
              "      <td>0.866</td>\n",
              "      <td>0.9995</td>\n",
              "    </tr>\n",
              "    <tr>\n",
              "      <th>2860</th>\n",
              "      <td>735602</td>\n",
              "      <td>AAPL /  : “That’s what the link-baiting press...</td>\n",
              "      <td>71</td>\n",
              "      <td>0.999</td>\n",
              "      <td>0.03</td>\n",
              "      <td>0.83</td>\n",
              "      <td>0.999</td>\n",
              "    </tr>\n",
              "    <tr>\n",
              "      <th>2861</th>\n",
              "      <td>735601</td>\n",
              "      <td>Vamos pata abajo Y aapl parece liderar \": $AA...</td>\n",
              "      <td>71</td>\n",
              "      <td>0.9991</td>\n",
              "      <td>0.04</td>\n",
              "      <td>0.801</td>\n",
              "      <td>0.9991</td>\n",
              "    </tr>\n",
              "    <tr>\n",
              "      <th>2862</th>\n",
              "      <td>735600</td>\n",
              "      <td>AAPL:Apple Falls on Watch Outlook, Big Blue L...</td>\n",
              "      <td>27</td>\n",
              "      <td>0.9976</td>\n",
              "      <td>0.058</td>\n",
              "      <td>0.83</td>\n",
              "      <td>0.9976</td>\n",
              "    </tr>\n",
              "  </tbody>\n",
              "</table>\n",
              "<p>2863 rows × 7 columns</p>\n",
              "</div>\n",
              "      <button class=\"colab-df-convert\" onclick=\"convertToInteractive('df-35e696df-02d6-4eaf-a3b2-3c56f5700b55')\"\n",
              "              title=\"Convert this dataframe to an interactive table.\"\n",
              "              style=\"display:none;\">\n",
              "        \n",
              "  <svg xmlns=\"http://www.w3.org/2000/svg\" height=\"24px\"viewBox=\"0 0 24 24\"\n",
              "       width=\"24px\">\n",
              "    <path d=\"M0 0h24v24H0V0z\" fill=\"none\"/>\n",
              "    <path d=\"M18.56 5.44l.94 2.06.94-2.06 2.06-.94-2.06-.94-.94-2.06-.94 2.06-2.06.94zm-11 1L8.5 8.5l.94-2.06 2.06-.94-2.06-.94L8.5 2.5l-.94 2.06-2.06.94zm10 10l.94 2.06.94-2.06 2.06-.94-2.06-.94-.94-2.06-.94 2.06-2.06.94z\"/><path d=\"M17.41 7.96l-1.37-1.37c-.4-.4-.92-.59-1.43-.59-.52 0-1.04.2-1.43.59L10.3 9.45l-7.72 7.72c-.78.78-.78 2.05 0 2.83L4 21.41c.39.39.9.59 1.41.59.51 0 1.02-.2 1.41-.59l7.78-7.78 2.81-2.81c.8-.78.8-2.07 0-2.86zM5.41 20L4 18.59l7.72-7.72 1.47 1.35L5.41 20z\"/>\n",
              "  </svg>\n",
              "      </button>\n",
              "      \n",
              "  <style>\n",
              "    .colab-df-container {\n",
              "      display:flex;\n",
              "      flex-wrap:wrap;\n",
              "      gap: 12px;\n",
              "    }\n",
              "\n",
              "    .colab-df-convert {\n",
              "      background-color: #E8F0FE;\n",
              "      border: none;\n",
              "      border-radius: 50%;\n",
              "      cursor: pointer;\n",
              "      display: none;\n",
              "      fill: #1967D2;\n",
              "      height: 32px;\n",
              "      padding: 0 0 0 0;\n",
              "      width: 32px;\n",
              "    }\n",
              "\n",
              "    .colab-df-convert:hover {\n",
              "      background-color: #E2EBFA;\n",
              "      box-shadow: 0px 1px 2px rgba(60, 64, 67, 0.3), 0px 1px 3px 1px rgba(60, 64, 67, 0.15);\n",
              "      fill: #174EA6;\n",
              "    }\n",
              "\n",
              "    [theme=dark] .colab-df-convert {\n",
              "      background-color: #3B4455;\n",
              "      fill: #D2E3FC;\n",
              "    }\n",
              "\n",
              "    [theme=dark] .colab-df-convert:hover {\n",
              "      background-color: #434B5C;\n",
              "      box-shadow: 0px 1px 3px 1px rgba(0, 0, 0, 0.15);\n",
              "      filter: drop-shadow(0px 1px 2px rgba(0, 0, 0, 0.3));\n",
              "      fill: #FFFFFF;\n",
              "    }\n",
              "  </style>\n",
              "\n",
              "      <script>\n",
              "        const buttonEl =\n",
              "          document.querySelector('#df-35e696df-02d6-4eaf-a3b2-3c56f5700b55 button.colab-df-convert');\n",
              "        buttonEl.style.display =\n",
              "          google.colab.kernel.accessAllowed ? 'block' : 'none';\n",
              "\n",
              "        async function convertToInteractive(key) {\n",
              "          const element = document.querySelector('#df-35e696df-02d6-4eaf-a3b2-3c56f5700b55');\n",
              "          const dataTable =\n",
              "            await google.colab.kernel.invokeFunction('convertToInteractive',\n",
              "                                                     [key], {});\n",
              "          if (!dataTable) return;\n",
              "\n",
              "          const docLinkHtml = 'Like what you see? Visit the ' +\n",
              "            '<a target=\"_blank\" href=https://colab.research.google.com/notebooks/data_table.ipynb>data table notebook</a>'\n",
              "            + ' to learn more about interactive tables.';\n",
              "          element.innerHTML = '';\n",
              "          dataTable['output_type'] = 'display_data';\n",
              "          await google.colab.output.renderOutput(dataTable, element);\n",
              "          const docLink = document.createElement('div');\n",
              "          docLink.innerHTML = docLinkHtml;\n",
              "          element.appendChild(docLink);\n",
              "        }\n",
              "      </script>\n",
              "    </div>\n",
              "  </div>\n",
              "  "
            ]
          },
          "metadata": {},
          "execution_count": 130
        }
      ]
    },
    {
      "cell_type": "markdown",
      "source": [
        "# Training and Test Dataset"
      ],
      "metadata": {
        "id": "_3N4Bh2xy2ND"
      }
    },
    {
      "cell_type": "code",
      "source": [
        "X = data.drop(['Prices', 'Tweets'], axis = 1)\n",
        "y = data['Prices']\n",
        "\n",
        "# Import train_test_split function\n",
        "from sklearn.model_selection import train_test_split\n",
        "\n",
        "# Split dataset into training set and test set\n",
        "X_train, X_test, y_train, y_test = train_test_split(X, y, test_size=0.2,random_state=109) # 80% training and 20% test"
      ],
      "metadata": {
        "id": "rIsMqRZ0zBUJ"
      },
      "execution_count": null,
      "outputs": []
    },
    {
      "cell_type": "markdown",
      "source": [
        "# Importing Libraries"
      ],
      "metadata": {
        "id": "AAvOwRTXDJQa"
      }
    },
    {
      "cell_type": "code",
      "source": [
        "from sklearn import datasets, linear_model\n",
        "from sklearn.metrics import mean_squared_error, r2_score\n",
        "import seaborn as sns\n",
        "from sklearn.linear_model import BayesianRidge\n",
        "from sklearn.neighbors import KNeighborsRegressor\n",
        "from sklearn.metrics import mean_squared_error, r2_score, accuracy_score, max_error, mean_absolute_error\n",
        "from sklearn.neural_network import MLPRegressor\n",
        "from sklearn.pipeline import make_pipeline\n",
        "from sklearn.preprocessing import StandardScaler"
      ],
      "metadata": {
        "id": "gBp2IJN16mNN"
      },
      "execution_count": null,
      "outputs": []
    },
    {
      "cell_type": "markdown",
      "source": [
        "# Prediction"
      ],
      "metadata": {
        "id": "7MaMcTVKDR1j"
      }
    },
    {
      "cell_type": "code",
      "source": [
        "Performance = []\n",
        "regressor_names = []"
      ],
      "metadata": {
        "id": "N1_LmqZZB-Vx"
      },
      "execution_count": null,
      "outputs": []
    },
    {
      "cell_type": "markdown",
      "source": [
        "## MLP Regressor"
      ],
      "metadata": {
        "id": "b2l8CMkhDY1b"
      }
    },
    {
      "cell_type": "code",
      "source": [
        "reg = make_pipeline(StandardScaler(), MLPRegressor())\n",
        "reg.fit(X_train, y_train)\n",
        "preds = reg.predict(X_test)"
      ],
      "metadata": {
        "colab": {
          "base_uri": "https://localhost:8080/"
        },
        "id": "YQIGSvWo6vQi",
        "outputId": "3862e3d4-4bc3-463e-9d9d-ea42d45d48cc"
      },
      "execution_count": null,
      "outputs": [
        {
          "output_type": "stream",
          "name": "stderr",
          "text": [
            "/usr/local/lib/python3.7/dist-packages/sklearn/neural_network/_multilayer_perceptron.py:696: ConvergenceWarning: Stochastic Optimizer: Maximum iterations (200) reached and the optimization hasn't converged yet.\n",
            "  ConvergenceWarning,\n"
          ]
        }
      ]
    },
    {
      "cell_type": "code",
      "source": [
        "print(f\" r2 score: {r2_score(preds, y_test)}\\n max error: {max_error(preds, y_test)}\\n mean absolut error: {mean_absolute_error(preds, y_test)}\")\n",
        "Performance.append(round(r2_score(preds, y_test) * 100,2))\n",
        "regressor_names.append('MLP with Normalization')"
      ],
      "metadata": {
        "colab": {
          "base_uri": "https://localhost:8080/"
        },
        "id": "1GSdEb-H6v9N",
        "outputId": "94000bb6-1724-42ec-fb0d-4d3bd4dacd6e"
      },
      "execution_count": null,
      "outputs": [
        {
          "output_type": "stream",
          "name": "stdout",
          "text": [
            " r2 score: 0.5448965873205844\n",
            " max error: 79.89613005721245\n",
            " mean absolut error: 17.482140439018753\n"
          ]
        }
      ]
    },
    {
      "cell_type": "markdown",
      "source": [
        "## Bayesian Ridge"
      ],
      "metadata": {
        "id": "w9GYClUbDtk3"
      }
    },
    {
      "cell_type": "code",
      "source": [
        "reg = make_pipeline(StandardScaler(), BayesianRidge())\n",
        "reg.fit(X_train, y_train)\n",
        "preds = reg.predict(X_test)"
      ],
      "metadata": {
        "id": "8zLASqizBENQ"
      },
      "execution_count": null,
      "outputs": []
    },
    {
      "cell_type": "code",
      "source": [
        "# check different metrics\n",
        "print(f\" r2 score: {r2_score(preds, y_test)}\\n max error: {max_error(preds, y_test)}\\n mean absolut error: {mean_absolute_error(preds, y_test)}\")\n",
        "Performance.append(round(r2_score(preds, y_test) * 100,2))\n",
        "regressor_names.append('Bayesian Ridge with Normalization')"
      ],
      "metadata": {
        "colab": {
          "base_uri": "https://localhost:8080/"
        },
        "id": "J5DitQhpBEz5",
        "outputId": "3b762d58-e1df-4acf-fade-54e0475493f5"
      },
      "execution_count": null,
      "outputs": [
        {
          "output_type": "stream",
          "name": "stdout",
          "text": [
            " r2 score: 0.27743450007970216\n",
            " max error: 64.63264796128298\n",
            " mean absolut error: 21.68160028560767\n"
          ]
        }
      ]
    },
    {
      "cell_type": "markdown",
      "source": [
        "## K Nearest Neighbours"
      ],
      "metadata": {
        "id": "MKiPscH9D0kl"
      }
    },
    {
      "cell_type": "code",
      "source": [
        "reg = make_pipeline(StandardScaler(), KNeighborsRegressor())\n",
        "reg.fit(X_train, y_train)\n",
        "preds = reg.predict(X_test)"
      ],
      "metadata": {
        "id": "EcIJhAbFBShQ"
      },
      "execution_count": null,
      "outputs": []
    },
    {
      "cell_type": "code",
      "source": [
        "print(f\" r2 score: {r2_score(preds, y_test)}\\n max error: {max_error(preds, y_test)}\\n mean absolut error: {mean_absolute_error(preds, y_test)}\")\n",
        "Performance.append(round(r2_score(preds, y_test) * 100,2))\n",
        "regressor_names.append('KNN with Normalization')"
      ],
      "metadata": {
        "colab": {
          "base_uri": "https://localhost:8080/"
        },
        "id": "dRUTC1m2BTFC",
        "outputId": "4fd532c1-5120-4df6-a842-9c6bb2236b48"
      },
      "execution_count": null,
      "outputs": [
        {
          "output_type": "stream",
          "name": "stdout",
          "text": [
            " r2 score: 0.6970532695567517\n",
            " max error: 91.4\n",
            " mean absolut error: 13.56369982547993\n"
          ]
        }
      ]
    },
    {
      "cell_type": "markdown",
      "source": [
        "# Performance Evaluation"
      ],
      "metadata": {
        "id": "8pduzwCUD6EL"
      }
    },
    {
      "cell_type": "code",
      "source": [
        "Performance "
      ],
      "metadata": {
        "colab": {
          "base_uri": "https://localhost:8080/"
        },
        "id": "Vu7Kk5goCYz3",
        "outputId": "9cc4fda5-28b2-4e1e-e363-b249d8a81e91"
      },
      "execution_count": null,
      "outputs": [
        {
          "output_type": "execute_result",
          "data": {
            "text/plain": [
              "[54.49, 27.74, 69.71]"
            ]
          },
          "metadata": {},
          "execution_count": 154
        }
      ]
    },
    {
      "cell_type": "code",
      "source": [
        "import matplotlib.pyplot as plt\n",
        "# Creating a bar plot\n",
        "sns.barplot(x=Performance, y=regressor_names, palette= 'rocket')\n",
        "# Add labels to your graph\n",
        "plt.xlabel('Model Performance (%)')\n",
        "plt.ylabel('Model')\n",
        "plt.title(\"Visualizing Model Performance\")\n",
        "plt.show()"
      ],
      "metadata": {
        "colab": {
          "base_uri": "https://localhost:8080/",
          "height": 295
        },
        "id": "zon-TvFRCZiA",
        "outputId": "8b381e76-f77d-48fb-bfee-76e850371fa3"
      },
      "execution_count": null,
      "outputs": [
        {
          "output_type": "display_data",
          "data": {
            "text/plain": [
              "<Figure size 432x288 with 1 Axes>"
            ],
            "image/png": "[encoded data removed]"
          },
          "metadata": {
            "needs_background": "light"
          }
        }
      ]
    }
  ]
}
